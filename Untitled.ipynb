{
 "cells": [
  {
   "cell_type": "markdown",
   "metadata": {},
   "source": [
    "### Actividad 0.2 \n",
    "Graficar series temporales: una puesta en comúnObjetivo: graficar la serie temporal asignada a su grupo.En la carpeta compartidade la materia, bajo \"clase 00/ligo-data\" encontrarán archivos con seriestemporales y un \"readme.txt\" con la asignación de cada serie por grupo.Deben bajar la serie correspondiente, descomprimirla, importarla al programa que deseen usar ygraficarla."
   ]
  },
  {
   "cell_type": "markdown",
   "metadata": {},
   "source": [
    "Algunas ayudas:\n",
    "\n",
    "•En los encabezados de los archivos hay información sobre la base temporal. La columnade datos es la señal medida.\n",
    "\n",
    "•Trabajen la proporción de los ejes del gráfico para mostrar mejor la información.\n",
    "\n",
    "•No se limiten a un único gráfico, pueden cortar y hacer varios, hacer detalles, etc.\n",
    "\n",
    "•No se olviden de etiquetar los ejes.\n",
    "\n",
    "•Prueben cambiar colores, grosores de lineas, etc.\n",
    "\n",
    "\n",
    "Algunas cosas extra:\n",
    "\n",
    "•Las mediciones corresponden a señales de interferómetros gravitacionales en ciertoseventos especiales fueron bajadas dehttps://www.ligo.caltech.edu/page/ligo-dataSdf\n",
    "\n",
    "•Hay datos de distintos grupos que corresponden a un mismo evento. ¿Ven algunacorrelación?Forma de entrega: Una diapositiva con el/los gráficos producidos, que van acomentar en la clase como si fueran un “figure caption” o epígrafe parlante.\n"
   ]
  },
  {
   "cell_type": "markdown",
   "metadata": {},
   "source": [
    "Nos toca: grupo 05 -> H-H1_GWOSC_4KHZ_R1-1239082247-32.txt.gz"
   ]
  },
  {
   "cell_type": "code",
   "execution_count": 2,
   "metadata": {},
   "outputs": [],
   "source": [
    "import matplotlib.pylab as plt\n",
    "import numpy as np\n",
    "import gzip"
   ]
  },
  {
   "cell_type": "code",
   "execution_count": 3,
   "metadata": {},
   "outputs": [],
   "source": [
    "a_file = gzip.open(\"ligo-data/H-H1_GWOSC_4KHZ_R1-1239082247-32.txt.gz\", \"rb\")\n",
    "contents = a_file.read()"
   ]
  },
  {
   "cell_type": "code",
   "execution_count": 5,
   "metadata": {},
   "outputs": [
    {
     "name": "stdout",
     "output_type": "stream",
     "text": [
      "35\n"
     ]
    }
   ],
   "source": [
    "print(contents[0])"
   ]
  }
 ],
 "metadata": {
  "kernelspec": {
   "display_name": "Python 3",
   "language": "python",
   "name": "python3"
  },
  "language_info": {
   "codemirror_mode": {
    "name": "ipython",
    "version": 3
   },
   "file_extension": ".py",
   "mimetype": "text/x-python",
   "name": "python",
   "nbconvert_exporter": "python",
   "pygments_lexer": "ipython3",
   "version": "3.7.3"
  }
 },
 "nbformat": 4,
 "nbformat_minor": 2
}
