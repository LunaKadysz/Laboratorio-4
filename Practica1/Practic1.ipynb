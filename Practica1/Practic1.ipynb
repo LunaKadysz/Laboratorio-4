{
 "cells": [
  {
   "cell_type": "markdown",
   "metadata": {},
   "source": [
    "https://nube.df.uba.ar/index.php/s/4m7rJFYCcPbT9XK#pdfviewer"
   ]
  },
  {
   "cell_type": "markdown",
   "metadata": {},
   "source": [
    "## Actividad 1.1\n",
    "### (a)\n",
    "Obtener las dimensiones de los objetos de la imagen “vil_metal.png”. Tratar de determinar lacalibración pixel/mm a partir de la regla ubicada en la parte inferior usando alguna(s) de las he-rramientas repasadas en clase, como binarización, filtros detectores de bordes, etc. Con estacalibración, obtener el diámetro de las monedas. \n",
    "Pensar estos puntos para la presentación: \n",
    "\n",
    "◦Cuál es el diámetro (cómo asegurar que el segmento elegido es el que pasa por el centro)?◦Qué pasa con la sombra de la imagen?\n",
    "\n",
    "◦Qué incerteza se le puede asignar a esa determinación?La imagen también está en el paquete de las imágenes que se usaron durante la clase."
   ]
  },
  {
   "cell_type": "markdown",
   "metadata": {},
   "source": [
    "### (b) \n",
    "Tomar una o dos fotos con celular o cámara e intentar algún tipo de procesamiento de la ima-gen: por ejemplo eliminar una estructura periódica de una imagen (mosquitero, reja, etc), mediralgún tamaño típico a partir de una grilla de calibración, contar objetos (lentejas, porotos, ho-jas), filtrar por promediado, detectar bordes, etc."
   ]
  },
  {
   "cell_type": "markdown",
   "metadata": {},
   "source": [
    "## Actividad 1.2\n",
    "### (a)\n",
    "Calcular cuánto se estira un tornillo de acero de 6 mm de diámetro y 25 mm de largo si se lecuelga una masa de 100 kg de su extremo inferior (ver la figura). copia comprimida de la imagen \"vil_metal.png\"\n",
    "\n",
    "Usar la ley de Hooke,ΔL=LF/EA, dondeL es la longitud en reposo del material, F lafuerza   ejercida,  E  el   módulo   de   Young   y  A  la   sección   (área   transversal)   de   la   pieza(E≈20.6×1010N/m2). "
   ]
  },
  {
   "cell_type": "markdown",
   "metadata": {},
   "source": [
    "### (b)\n",
    "Si el límite elástico del acero es de 5.5×108N/m2cuál es la máxima carga que se puedeaplicar sobre ese tornillo, antes de que se empiece a deformar en forma permanente? (ojo,tiene las mismas unidades que el módulo de Young pero no es!) Para calcular esta cargamáxima, este límite elástico define una carga máxima por unidad de área (la sección de lapieza):   a   una   barra   de  1m2  de   sección   le   puedo   aplicar   una   tensión   máxima   de5.5×108N, que es un montón (pero claro, la barra tiene 1m×1mde sección!!)"
   ]
  }
 ],
 "metadata": {
  "kernelspec": {
   "display_name": "Python 3",
   "language": "python",
   "name": "python3"
  },
  "language_info": {
   "codemirror_mode": {
    "name": "ipython",
    "version": 3
   },
   "file_extension": ".py",
   "mimetype": "text/x-python",
   "name": "python",
   "nbconvert_exporter": "python",
   "pygments_lexer": "ipython3",
   "version": "3.7.3"
  }
 },
 "nbformat": 4,
 "nbformat_minor": 2
}
