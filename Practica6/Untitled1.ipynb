{
 "cells": [
  {
   "cell_type": "code",
   "execution_count": 39,
   "id": "alert-nurse",
   "metadata": {},
   "outputs": [],
   "source": [
    "from sympy import re, im, I, symbols, simplify,expand,diff,solve,sqrt"
   ]
  },
  {
   "cell_type": "code",
   "execution_count": 90,
   "id": "chemical-cartridge",
   "metadata": {},
   "outputs": [],
   "source": [
    "R, L, C, C0, w= symbols('R L C C0 w',real=True)\n",
    "s=I*w"
   ]
  },
  {
   "cell_type": "code",
   "execution_count": 91,
   "id": "acquired-tennessee",
   "metadata": {},
   "outputs": [],
   "source": [
    "Z=1/(s*C0) * (R + s*L + 1/(s*C)) * 1/(R+s*L+1/(s*C)+1/(s*C0))"
   ]
  },
  {
   "cell_type": "code",
   "execution_count": 115,
   "id": "measured-length",
   "metadata": {},
   "outputs": [
    {
     "data": {
      "text/latex": [
       "$\\displaystyle - \\frac{i \\left(i L w + R - \\frac{i}{C w}\\right)}{C_{0} w \\left(i L w + R - \\frac{i}{C_{0} w} - \\frac{i}{C w}\\right)}$"
      ],
      "text/plain": [
       "-I*(I*L*w + R - I/(C*w))/(C0*w*(I*L*w + R - I/(C0*w) - I/(C*w)))"
      ]
     },
     "execution_count": 115,
     "metadata": {},
     "output_type": "execute_result"
    }
   ],
   "source": [
    "Z"
   ]
  },
  {
   "cell_type": "code",
   "execution_count": 113,
   "id": "racial-indication",
   "metadata": {},
   "outputs": [
    {
     "data": {
      "text/latex": [
       "$\\displaystyle \\frac{C^{2} R}{C^{2} C_{0}^{2} R^{2} w^{2} + \\left(- C C_{0} L w^{2} + C + C_{0}\\right)^{2}}$"
      ],
      "text/plain": [
       "C**2*R/(C**2*C0**2*R**2*w**2 + (-C*C0*L*w**2 + C + C0)**2)"
      ]
     },
     "execution_count": 113,
     "metadata": {},
     "output_type": "execute_result"
    }
   ],
   "source": [
    "simplify(re(Z))"
   ]
  },
  {
   "cell_type": "code",
   "execution_count": 112,
   "id": "cubic-rebound",
   "metadata": {},
   "outputs": [
    {
     "data": {
      "text/latex": [
       "$\\displaystyle \\frac{\\sqrt{- 2 R^{2} + \\frac{4 L}{C_{0}} + \\frac{4 L}{C}}}{2 L}$"
      ],
      "text/plain": [
       "sqrt(-2*R**2 + 4*L/C0 + 4*L/C)/(2*L)"
      ]
     },
     "execution_count": 112,
     "metadata": {},
     "output_type": "execute_result"
    }
   ],
   "source": [
    "simplify(sqrt(2)*sqrt(-(C*C0*R**2 - 2*C*L - 2*C0*L)/(C*C0))/(2*L))"
   ]
  },
  {
   "cell_type": "code",
   "execution_count": 94,
   "id": "modified-luther",
   "metadata": {},
   "outputs": [],
   "source": [
    "Za=C**2*R/(C+C0-C*C0*L*w**2)**2"
   ]
  },
  {
   "cell_type": "code",
   "execution_count": 97,
   "id": "consistent-green",
   "metadata": {},
   "outputs": [],
   "source": [
    "dZa=Za.diff(w)"
   ]
  },
  {
   "cell_type": "code",
   "execution_count": 99,
   "id": "electoral-hayes",
   "metadata": {},
   "outputs": [
    {
     "data": {
      "text/plain": [
       "[-sqrt((C + C0)/(C*C0*L)), sqrt((C + C0)/(C*C0*L))]"
      ]
     },
     "execution_count": 99,
     "metadata": {},
     "output_type": "execute_result"
    }
   ],
   "source": [
    "solve(-C*C0*L*w**2+C+C0,w)"
   ]
  },
  {
   "cell_type": "code",
   "execution_count": 100,
   "id": "middle-system",
   "metadata": {},
   "outputs": [
    {
     "data": {
      "text/latex": [
       "$\\displaystyle \\sqrt{\\frac{C + C_{0}}{C C_{0} L}}$"
      ],
      "text/plain": [
       "sqrt((C + C0)/(C*C0*L))"
      ]
     },
     "execution_count": 100,
     "metadata": {},
     "output_type": "execute_result"
    }
   ],
   "source": [
    " sqrt((C + C0)/(C*C0*L))"
   ]
  },
  {
   "cell_type": "code",
   "execution_count": null,
   "id": "healthy-faculty",
   "metadata": {},
   "outputs": [],
   "source": []
  }
 ],
 "metadata": {
  "kernelspec": {
   "display_name": "Python 3",
   "language": "python",
   "name": "python3"
  },
  "language_info": {
   "codemirror_mode": {
    "name": "ipython",
    "version": 3
   },
   "file_extension": ".py",
   "mimetype": "text/x-python",
   "name": "python",
   "nbconvert_exporter": "python",
   "pygments_lexer": "ipython3",
   "version": "3.9.2"
  }
 },
 "nbformat": 4,
 "nbformat_minor": 5
}
