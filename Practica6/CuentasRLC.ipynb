{
 "cells": [
  {
   "cell_type": "code",
   "execution_count": 1,
   "metadata": {},
   "outputs": [],
   "source": [
    "from sympy import re, im, I, symbols, simplify,expand,diff,solve,sqrt, Abs,init_printing,Symbol\n",
    "import numpy as np\n",
    "import matplotlib.pyplot as plt\n",
    "import seaborn as sns\n",
    "plt.style.use('seaborn-darkgrid')\n",
    "\n",
    "init_printing()"
   ]
  },
  {
   "cell_type": "markdown",
   "metadata": {},
   "source": [
    "## Variables"
   ]
  },
  {
   "cell_type": "code",
   "execution_count": 2,
   "metadata": {},
   "outputs": [],
   "source": [
    "R,R2, L, C, C0, w0= symbols('R R2 L C C0 w0',real=True,positive=True)\n",
    "w=Symbol('w',real=True)\n",
    "s=I*w\n",
    "C=C0\n",
    "#w0=1/(sqrt(L*C0))"
   ]
  },
  {
   "cell_type": "markdown",
   "metadata": {},
   "source": [
    "### La impedancia $Z(\\omega)$"
   ]
  },
  {
   "cell_type": "code",
   "execution_count": 3,
   "metadata": {},
   "outputs": [
    {
     "data": {
      "image/png": "[encoded data removed]",
      "text/latex": [
       "$$- \\frac{i \\left(i L w + R - \\frac{i}{C_{0} w}\\right)}{C_{0} w \\left(i L w + R - \\frac{2 i}{C_{0} w}\\right)}$$"
      ],
      "text/plain": [
       "    ⎛             ⅈ  ⎞ \n",
       " -ⅈ⋅⎜ⅈ⋅L⋅w + R - ────⎟ \n",
       "    ⎝            C₀⋅w⎠ \n",
       "───────────────────────\n",
       "     ⎛            2⋅ⅈ ⎞\n",
       "C₀⋅w⋅⎜ⅈ⋅L⋅w + R - ────⎟\n",
       "     ⎝            C₀⋅w⎠"
      ]
     },
     "execution_count": 3,
     "metadata": {},
     "output_type": "execute_result"
    }
   ],
   "source": [
    "Z=1/(s*C0) * (R + s*L + 1/(s*C)) * 1/(R+s*L+1/(s*C)+1/(s*C0))\n",
    "Z"
   ]
  },
  {
   "cell_type": "markdown",
   "metadata": {},
   "source": [
    "### Calculo $|Z(\\omega)|^2$"
   ]
  },
  {
   "cell_type": "code",
   "execution_count": 4,
   "metadata": {},
   "outputs": [
    {
     "data": {
      "image/png": "[encoded data removed]",
      "text/latex": [
       "$$\\frac{L^{2} w^{2} + R^{2} - \\frac{2 L}{C_{0}} + \\frac{1}{C_{0}^{2} w^{2}}}{C_{0}^{2} w^{2} \\left(L^{2} w^{2} + R^{2} - \\frac{4 L}{C_{0}} + \\frac{4}{C_{0}^{2} w^{2}}\\right)}$$"
      ],
      "text/plain": [
       "     2  2    2   2⋅L     1        \n",
       "    L ⋅w  + R  - ─── + ──────     \n",
       "                  C₀     2  2     \n",
       "                       C₀ ⋅w      \n",
       "──────────────────────────────────\n",
       "  2  2 ⎛ 2  2    2   4⋅L     4   ⎞\n",
       "C₀ ⋅w ⋅⎜L ⋅w  + R  - ─── + ──────⎟\n",
       "       ⎜              C₀     2  2⎟\n",
       "       ⎝                   C₀ ⋅w ⎠"
      ]
     },
     "execution_count": 4,
     "metadata": {},
     "output_type": "execute_result"
    }
   ],
   "source": [
    "Z2=Abs(Z)**2\n",
    "Z2"
   ]
  },
  {
   "cell_type": "markdown",
   "metadata": {},
   "source": [
    "### Como $R^2 \\ll L/C$ puedo sacarlo de la ecuación"
   ]
  },
  {
   "cell_type": "code",
   "execution_count": 5,
   "metadata": {},
   "outputs": [
    {
     "data": {
      "image/png": "[encoded data removed]",
      "text/latex": [
       "$$\\frac{L^{2} w^{2} + R^{2} - \\frac{2 L}{C_{0}} + \\frac{1}{C_{0}^{2} w^{2}}}{C_{0}^{2} L^{2} \\left(w^{2} - 2 w_{0}^{2}\\right)}$$"
      ],
      "text/plain": [
       " 2  2    2   2⋅L     1   \n",
       "L ⋅w  + R  - ─── + ──────\n",
       "              C₀     2  2\n",
       "                   C₀ ⋅w \n",
       "─────────────────────────\n",
       "     2  2 ⎛ 2       2⎞   \n",
       "   C₀ ⋅L ⋅⎝w  - 2⋅w₀ ⎠   "
      ]
     },
     "execution_count": 5,
     "metadata": {},
     "output_type": "execute_result"
    }
   ],
   "source": [
    "(L**2*w**2 + R**2 - 2*L/C0 + 1/(C0**2*w**2))/(C0**2 * L**2*(w**2 - 2*w0**2))"
   ]
  },
  {
   "cell_type": "markdown",
   "metadata": {},
   "source": [
    "### Ahora veo un poco el comportamiento de las  partes $Re(Z)$ e $Im(Z)$ y busco los minimos del denominador en ambos casos"
   ]
  },
  {
   "cell_type": "code",
   "execution_count": 6,
   "metadata": {},
   "outputs": [
    {
     "data": {
      "image/png": "[encoded data removed]",
      "text/latex": [
       "$$\\frac{R}{C_{0}^{2} R^{2} w^{2} + \\left(C_{0} L w^{2} - 2\\right)^{2}}$$"
      ],
      "text/plain": [
       "            R             \n",
       "──────────────────────────\n",
       "                         2\n",
       "  2  2  2   ⎛      2    ⎞ \n",
       "C₀ ⋅R ⋅w  + ⎝C₀⋅L⋅w  - 2⎠ "
      ]
     },
     "execution_count": 6,
     "metadata": {},
     "output_type": "execute_result"
    }
   ],
   "source": [
    "simplify(re(Z))"
   ]
  },
  {
   "cell_type": "code",
   "execution_count": 7,
   "metadata": {},
   "outputs": [
    {
     "data": {
      "image/png": "[encoded data removed]",
      "text/latex": [
       "$$\\left [ 0, \\quad - \\frac{\\sqrt{2} \\sqrt{- C_{0} R^{2} + 4 L}}{2 \\sqrt{C_{0}} L}, \\quad \\frac{\\sqrt{2} \\sqrt{- C_{0} R^{2} + 4 L}}{2 \\sqrt{C_{0}} L}\\right ]$$"
      ],
      "text/plain": [
       "⎡          _______________         _______________⎤\n",
       "⎢         ╱       2               ╱       2       ⎥\n",
       "⎢   -√2⋅╲╱  - C₀⋅R  + 4⋅L    √2⋅╲╱  - C₀⋅R  + 4⋅L ⎥\n",
       "⎢0, ───────────────────────, ─────────────────────⎥\n",
       "⎢              ____                    ____       ⎥\n",
       "⎣          2⋅╲╱ C₀ ⋅L              2⋅╲╱ C₀ ⋅L     ⎦"
      ]
     },
     "execution_count": 7,
     "metadata": {},
     "output_type": "execute_result"
    }
   ],
   "source": [
    "solve((C0**2*R**2*w**2 + (C0*L*w**2 - 2)**2).diff(w),w)"
   ]
  },
  {
   "cell_type": "code",
   "execution_count": 8,
   "metadata": {},
   "outputs": [
    {
     "data": {
      "image/png": "[encoded data removed]",
      "text/latex": [
       "$$\\frac{- C_{0}^{2} L^{2} w^{4} - C_{0}^{2} R^{2} w^{2} + 3 C_{0} L w^{2} - 2}{C_{0} w \\left(C_{0}^{2} L^{2} w^{4} + C_{0}^{2} R^{2} w^{2} - 4 C_{0} L w^{2} + 4\\right)}$$"
      ],
      "text/plain": [
       "      2  2  4     2  2  2           2       \n",
       "  - C₀ ⋅L ⋅w  - C₀ ⋅R ⋅w  + 3⋅C₀⋅L⋅w  - 2   \n",
       "────────────────────────────────────────────\n",
       "     ⎛  2  2  4     2  2  2           2    ⎞\n",
       "C₀⋅w⋅⎝C₀ ⋅L ⋅w  + C₀ ⋅R ⋅w  - 4⋅C₀⋅L⋅w  + 4⎠"
      ]
     },
     "execution_count": 8,
     "metadata": {},
     "output_type": "execute_result"
    }
   ],
   "source": [
    "simplify(im(Z))"
   ]
  },
  {
   "cell_type": "code",
   "execution_count": 9,
   "metadata": {},
   "outputs": [
    {
     "data": {
      "image/png": "[encoded data removed]",
      "text/latex": [
       "$$\\left [ 0, \\quad - \\frac{\\sqrt{2} \\sqrt{- C_{0} R^{2} + 4 L}}{2 \\sqrt{C_{0}} L}, \\quad \\frac{\\sqrt{2} \\sqrt{- C_{0} R^{2} + 4 L}}{2 \\sqrt{C_{0}} L}\\right ]$$"
      ],
      "text/plain": [
       "⎡          _______________         _______________⎤\n",
       "⎢         ╱       2               ╱       2       ⎥\n",
       "⎢   -√2⋅╲╱  - C₀⋅R  + 4⋅L    √2⋅╲╱  - C₀⋅R  + 4⋅L ⎥\n",
       "⎢0, ───────────────────────, ─────────────────────⎥\n",
       "⎢              ____                    ____       ⎥\n",
       "⎣          2⋅╲╱ C₀ ⋅L              2⋅╲╱ C₀ ⋅L     ⎦"
      ]
     },
     "execution_count": 9,
     "metadata": {},
     "output_type": "execute_result"
    }
   ],
   "source": [
    "solve((C0**2*L**2*w**4 + C0**2*R**2*w**2 - 4*C0*L*w**2 + 4).diff(w),w)"
   ]
  },
  {
   "cell_type": "code",
   "execution_count": 10,
   "metadata": {},
   "outputs": [
    {
     "name": "stdout",
     "output_type": "stream",
     "text": [
      "3161.70839895143*sqrt(2)\n",
      "------------\n"
     ]
    },
    {
     "data": {
      "image/png": "[encoded data removed]",
      "text/latex": [
       "$$4471.330898066037$$"
      ],
      "text/plain": [
       "4471.330898066037"
      ]
     },
     "execution_count": 10,
     "metadata": {},
     "output_type": "execute_result"
    }
   ],
   "source": [
    "w1=(sqrt(2)*sqrt(-C0*R**2 + 4*L)/(2*sqrt(C0)*L)).subs(L,10*1e-2).subs(C,100*1e-8).subs(R,12)\n",
    "print(w1)\n",
    "print('------------')\n",
    "3161.70839895143*np.sqrt(2)"
   ]
  },
  {
   "cell_type": "markdown",
   "metadata": {},
   "source": [
    "### Coparo esta frecuencia con la anti frecuencia donde $\\omega_p=\\omega_s \\sqrt{1+\\frac{C}{C_0}}$"
   ]
  },
  {
   "cell_type": "code",
   "execution_count": 11,
   "metadata": {},
   "outputs": [
    {
     "name": "stdout",
     "output_type": "stream",
     "text": [
      "31622.7766016838*sqrt(2)\n",
      "------------\n"
     ]
    },
    {
     "data": {
      "image/png": "[encoded data removed]",
      "text/latex": [
       "$$44721.3595499958$$"
      ],
      "text/plain": [
       "44721.3595499958"
      ]
     },
     "execution_count": 11,
     "metadata": {},
     "output_type": "execute_result"
    }
   ],
   "source": [
    "print((sqrt(1/(L*C))*sqrt(1+C/C0)).subs(L,10*1e-3).subs(C,100*1e-9).subs(R,12))\n",
    "print('------------')\n",
    "31622.7766016838*np.sqrt(2)"
   ]
  },
  {
   "cell_type": "markdown",
   "metadata": {},
   "source": [
    "### nada particular, por el momento no se se estan bien estos valores. Tranquilamente podria ser al antifrecuencia digamos."
   ]
  },
  {
   "cell_type": "markdown",
   "metadata": {},
   "source": [
    "### Calculo la transferencia\n",
    "### La idea es calcular $T=\\frac{|V_2|}{|V_1|}= \\frac{|R_2|}{|R_2+Z|}$ para eso lo mejorque pude encontrar fue losiguiente"
   ]
  },
  {
   "cell_type": "code",
   "execution_count": 12,
   "metadata": {},
   "outputs": [
    {
     "data": {
      "image/png": "[encoded data removed]",
      "text/latex": [
       "$$\\frac{C_{0} R_{2} w \\left(C_{0} w \\left(i L w + R\\right) - 2 i\\right) + i \\left(- C_{0} w \\left(i L w + R\\right) + i\\right)}{C_{0} w \\left(C_{0} w \\left(i L w + R\\right) - 2 i\\right)}$$"
      ],
      "text/plain": [
       "C₀⋅R₂⋅w⋅(C₀⋅w⋅(ⅈ⋅L⋅w + R) - 2⋅ⅈ) + ⅈ⋅(-C₀⋅w⋅(ⅈ⋅L⋅w + R) + ⅈ)\n",
       "────────────────────────────────────────────────────────────\n",
       "               C₀⋅w⋅(C₀⋅w⋅(ⅈ⋅L⋅w + R) - 2⋅ⅈ)                "
      ]
     },
     "execution_count": 12,
     "metadata": {},
     "output_type": "execute_result"
    }
   ],
   "source": [
    "simRZ=simplify(R2+Z)\n",
    "simRZ"
   ]
  },
  {
   "cell_type": "code",
   "execution_count": 13,
   "metadata": {},
   "outputs": [
    {
     "data": {
      "image/png": "[encoded data removed]",
      "text/latex": [
       "$$\\frac{C_{0}^{2} R_{2}^{2} w^{2} \\left(C_{0}^{2} L^{2} w^{4} + C_{0}^{2} R^{2} w^{2} - 4 C_{0} L w^{2} + 4\\right)}{C_{0}^{4} L^{2} R_{2}^{2} w^{6} + C_{0}^{4} R^{2} R_{2}^{2} w^{4} - 4 C_{0}^{3} L R_{2}^{2} w^{4} + C_{0}^{2} L^{2} w^{4} + C_{0}^{2} R^{2} w^{2} + 2 C_{0}^{2} R R_{2} w^{2} + 4 C_{0}^{2} R_{2}^{2} w^{2} - 2 C_{0} L w^{2} + 1}$$"
      ],
      "text/plain": [
       "                                    2   2  2 ⎛  2  2  4     2  2  2           \n",
       "                                  C₀ ⋅R₂ ⋅w ⋅⎝C₀ ⋅L ⋅w  + C₀ ⋅R ⋅w  - 4⋅C₀⋅L⋅w\n",
       "──────────────────────────────────────────────────────────────────────────────\n",
       "  4  2   2  6     4  2   2  4       3     2  4     2  2  4     2  2  2       2\n",
       "C₀ ⋅L ⋅R₂ ⋅w  + C₀ ⋅R ⋅R₂ ⋅w  - 4⋅C₀ ⋅L⋅R₂ ⋅w  + C₀ ⋅L ⋅w  + C₀ ⋅R ⋅w  + 2⋅C₀ \n",
       "\n",
       "2    ⎞                                 \n",
       "  + 4⎠                                 \n",
       "───────────────────────────────────────\n",
       "       2       2   2  2           2    \n",
       "⋅R⋅R₂⋅w  + 4⋅C₀ ⋅R₂ ⋅w  - 2⋅C₀⋅L⋅w  + 1"
      ]
     },
     "execution_count": 13,
     "metadata": {},
     "output_type": "execute_result"
    }
   ],
   "source": [
    "abRZ=Abs(R2/simRZ)**2\n",
    "abRZ"
   ]
  },
  {
   "cell_type": "code",
   "execution_count": 14,
   "metadata": {},
   "outputs": [
    {
     "name": "stdout",
     "output_type": "stream",
     "text": [
      "C0**2*R2**2*w**2*(C0**2*L**2*w**4 + C0**2*R**2*w**2 - 4*C0*L*w**2 + 4)/(C0**4*L**2*R2**2*w**6 + C0**4*R**2*R2**2*w**4 - 4*C0**3*L*R2**2*w**4 + C0**2*L**2*w**4 + C0**2*R**2*w**2 + 2*C0**2*R*R2*w**2 + 4*C0**2*R2**2*w**2 - 2*C0*L*w**2 + 1)\n"
     ]
    }
   ],
   "source": [
    "print(abRZ)"
   ]
  },
  {
   "cell_type": "code",
   "execution_count": 23,
   "metadata": {},
   "outputs": [
    {
     "data": {
      "image/png": "[encoded data removed]",
      "text/latex": [
       "$\\displaystyle \\frac{2.5 \\cdot 10^{-11} w^{2} \\left(1.0 \\cdot 10^{-18} w^{4} - 3.99856 \\cdot 10^{-9} w^{2} + 4\\right)}{2.5 \\cdot 10^{-29} w^{6} + 9.00036 \\cdot 10^{-19} w^{4} - 1.88656 \\cdot 10^{-9} w^{2} + 1}$"
      ],
      "text/plain": [
       "           2 ⎛         4               2    ⎞  \n",
       "  2.5e-11⋅w ⋅⎝1.0e-18⋅w  - 3.99856e-9⋅w  + 4⎠  \n",
       "───────────────────────────────────────────────\n",
       "         6                4               2    \n",
       "2.5e-29⋅w  + 9.00036e-19⋅w  - 1.88656e-9⋅w  + 1"
      ]
     },
     "execution_count": 23,
     "metadata": {},
     "output_type": "execute_result"
    }
   ],
   "source": [
    "abRZ_ev=abRZ.subs(L,10*1e-3).subs(C,100*1e-9).subs(R,12).subs(R2,50)\n",
    "abRZ_ev"
   ]
  },
  {
   "cell_type": "code",
   "execution_count": 36,
   "metadata": {},
   "outputs": [
    {
     "data": {
      "text/plain": [
       "Text(0, 0.5, 'Transf^2')"
      ]
     },
     "execution_count": 36,
     "metadata": {},
     "output_type": "execute_result"
    },
    {
     "data": {
      "image/png": "[encoded data removed]",
      "text/plain": [
       "<Figure size 720x360 with 1 Axes>"
      ]
     },
     "metadata": {
      "needs_background": "light"
     },
     "output_type": "display_data"
    }
   ],
   "source": [
    "ws=np.linspace(7e3,1e5,10000)\n",
    "tsf=2.5e-11*ws**2*(1.0e-18*ws**4 - 3.99856e-9*ws**2 + 4)/(2.5e-29*ws**6 + 9.00036e-19*ws**4 - 1.88656e-9*ws**2 + 1)\n",
    "\n",
    "%matplotlib inline\n",
    "plt.figure(figsize=(10,5))\n",
    "plt.semilogx(ws,tsf)\n",
    "plt.xlabel('Frecs [Hz]',fontsize=18)\n",
    "plt.ylabel('Transf^2',fontsize=18)"
   ]
  },
  {
   "cell_type": "markdown",
   "metadata": {},
   "source": [
    "### Busco entonces vercuando lafuncion del denominador se minimiza"
   ]
  },
  {
   "cell_type": "code",
   "execution_count": 16,
   "metadata": {},
   "outputs": [],
   "source": [
    "mins=(C0**4*L**2*R2**2*w**6 + C0**4*R**2*R2**2*w**4 - 4*C0**3*L*R2**2*w**4 + C0**2*L**2*w**4 + C0**2*R**2*w**2 + 2*C0**2*R*R2*w**2 + 4*C0**2*R2**2*w**2 - 2*C0*L*w**2 + 1).diff(w)"
   ]
  },
  {
   "cell_type": "code",
   "execution_count": 17,
   "metadata": {},
   "outputs": [
    {
     "data": {
      "image/png": "[encoded data removed]",
      "text/latex": [
       "$\\displaystyle \\left[ 0, \\  - \\frac{\\sqrt{3} \\sqrt{- C_{0}^{2} R^{2} R_{2}^{2} + 4 C_{0} L R_{2}^{2} - L^{2} - \\sqrt{C_{0}^{4} R^{4} R_{2}^{4} - 8 C_{0}^{3} L R^{2} R_{2}^{4} - C_{0}^{2} L^{2} R^{2} R_{2}^{2} - 6 C_{0}^{2} L^{2} R R_{2}^{3} + 4 C_{0}^{2} L^{2} R_{2}^{4} - 2 C_{0} L^{3} R_{2}^{2} + L^{4}}}}{3 C_{0} L R_{2}}, \\  \\frac{\\sqrt{3} \\sqrt{- C_{0}^{2} R^{2} R_{2}^{2} + 4 C_{0} L R_{2}^{2} - L^{2} - \\sqrt{C_{0}^{4} R^{4} R_{2}^{4} - 8 C_{0}^{3} L R^{2} R_{2}^{4} - C_{0}^{2} L^{2} R^{2} R_{2}^{2} - 6 C_{0}^{2} L^{2} R R_{2}^{3} + 4 C_{0}^{2} L^{2} R_{2}^{4} - 2 C_{0} L^{3} R_{2}^{2} + L^{4}}}}{3 C_{0} L R_{2}}, \\  - \\frac{\\sqrt{3} \\sqrt{- C_{0}^{2} R^{2} R_{2}^{2} + 4 C_{0} L R_{2}^{2} - L^{2} + \\sqrt{C_{0}^{4} R^{4} R_{2}^{4} - 8 C_{0}^{3} L R^{2} R_{2}^{4} - C_{0}^{2} L^{2} R^{2} R_{2}^{2} - 6 C_{0}^{2} L^{2} R R_{2}^{3} + 4 C_{0}^{2} L^{2} R_{2}^{4} - 2 C_{0} L^{3} R_{2}^{2} + L^{4}}}}{3 C_{0} L R_{2}}, \\  \\frac{\\sqrt{3} \\sqrt{- C_{0}^{2} R^{2} R_{2}^{2} + 4 C_{0} L R_{2}^{2} - L^{2} + \\sqrt{C_{0}^{4} R^{4} R_{2}^{4} - 8 C_{0}^{3} L R^{2} R_{2}^{4} - C_{0}^{2} L^{2} R^{2} R_{2}^{2} - 6 C_{0}^{2} L^{2} R R_{2}^{3} + 4 C_{0}^{2} L^{2} R_{2}^{4} - 2 C_{0} L^{3} R_{2}^{2} + L^{4}}}}{3 C_{0} L R_{2}}\\right]$"
      ],
      "text/plain": [
       "⎡           __________________________________________________________________\n",
       "⎢          ╱                                     _____________________________\n",
       "⎢         ╱      2  2   2            2    2     ╱   4  4   4       3    2   4 \n",
       "⎢   -√3⋅╲╱   - C₀ ⋅R ⋅R₂  + 4⋅C₀⋅L⋅R₂  - L  - ╲╱  C₀ ⋅R ⋅R₂  - 8⋅C₀ ⋅L⋅R ⋅R₂  \n",
       "⎢0, ──────────────────────────────────────────────────────────────────────────\n",
       "⎣                                                                      3⋅C₀⋅L⋅\n",
       "\n",
       "____________________________________________________________________          \n",
       "___________________________________________________________________          ╱\n",
       "    2  2  2   2       2  2     3       2  2   4         3   2    4          ╱ \n",
       "- C₀ ⋅L ⋅R ⋅R₂  - 6⋅C₀ ⋅L ⋅R⋅R₂  + 4⋅C₀ ⋅L ⋅R₂  - 2⋅C₀⋅L ⋅R₂  + L      √3⋅╲╱  \n",
       "─────────────────────────────────────────────────────────────────────, ───────\n",
       "R₂                                                                            \n",
       "\n",
       "______________________________________________________________________________\n",
       "                                     _________________________________________\n",
       "     2  2   2            2    2     ╱   4  4   4       3    2   4     2  2  2 \n",
       " - C₀ ⋅R ⋅R₂  + 4⋅C₀⋅L⋅R₂  - L  - ╲╱  C₀ ⋅R ⋅R₂  - 8⋅C₀ ⋅L⋅R ⋅R₂  - C₀ ⋅L ⋅R ⋅\n",
       "──────────────────────────────────────────────────────────────────────────────\n",
       "                                                           3⋅C₀⋅L⋅R₂          \n",
       "\n",
       "________________________________________________________          ____________\n",
       "_______________________________________________________          ╱            \n",
       "  2       2  2     3       2  2   4         3   2    4          ╱      2  2   \n",
       "R₂  - 6⋅C₀ ⋅L ⋅R⋅R₂  + 4⋅C₀ ⋅L ⋅R₂  - 2⋅C₀⋅L ⋅R₂  + L     -√3⋅╲╱   - C₀ ⋅R ⋅R₂\n",
       "────────────────────────────────────────────────────────, ────────────────────\n",
       "                                                                              \n",
       "\n",
       "______________________________________________________________________________\n",
       "                         _____________________________________________________\n",
       "2            2    2     ╱   4  4   4       3    2   4     2  2  2   2       2 \n",
       "  + 4⋅C₀⋅L⋅R₂  - L  + ╲╱  C₀ ⋅R ⋅R₂  - 8⋅C₀ ⋅L⋅R ⋅R₂  - C₀ ⋅L ⋅R ⋅R₂  - 6⋅C₀ ⋅\n",
       "──────────────────────────────────────────────────────────────────────────────\n",
       "                                               3⋅C₀⋅L⋅R₂                      \n",
       "\n",
       "____________________________________________          ________________________\n",
       "___________________________________________          ╱                        \n",
       " 2     3       2  2   4         3   2    4          ╱      2  2   2           \n",
       "L ⋅R⋅R₂  + 4⋅C₀ ⋅L ⋅R₂  - 2⋅C₀⋅L ⋅R₂  + L      √3⋅╲╱   - C₀ ⋅R ⋅R₂  + 4⋅C₀⋅L⋅R\n",
       "─────────────────────────────────────────────, ───────────────────────────────\n",
       "                                                                              \n",
       "\n",
       "______________________________________________________________________________\n",
       "             _________________________________________________________________\n",
       " 2    2     ╱   4  4   4       3    2   4     2  2  2   2       2  2     3    \n",
       "₂  - L  + ╲╱  C₀ ⋅R ⋅R₂  - 8⋅C₀ ⋅L⋅R ⋅R₂  - C₀ ⋅L ⋅R ⋅R₂  - 6⋅C₀ ⋅L ⋅R⋅R₂  + 4\n",
       "──────────────────────────────────────────────────────────────────────────────\n",
       "                                   3⋅C₀⋅L⋅R₂                                  \n",
       "\n",
       "________________________________⎤\n",
       "_______________________________ ⎥\n",
       "   2  2   4         3   2    4  ⎥\n",
       "⋅C₀ ⋅L ⋅R₂  - 2⋅C₀⋅L ⋅R₂  + L   ⎥\n",
       "────────────────────────────────⎥\n",
       "                                ⎦"
      ]
     },
     "execution_count": 17,
     "metadata": {},
     "output_type": "execute_result"
    }
   ],
   "source": [
    "solve(mins,w)"
   ]
  },
  {
   "cell_type": "markdown",
   "metadata": {},
   "source": [
    "### Agarro la unica frecuencia que parece ser positiva"
   ]
  },
  {
   "cell_type": "code",
   "execution_count": 18,
   "metadata": {},
   "outputs": [
    {
     "data": {
      "image/png": "[encoded data removed]",
      "text/latex": [
       "$\\displaystyle \\frac{\\sqrt{3} \\sqrt{- C_{0}^{2} R^{2} R_{2}^{2} + 4 C_{0} L R_{2}^{2} - L^{2} + \\sqrt{C_{0}^{4} R^{4} R_{2}^{4} - 8 C_{0}^{3} L R^{2} R_{2}^{4} - C_{0}^{2} L^{2} R^{2} R_{2}^{2} - 6 C_{0}^{2} L^{2} R R_{2}^{3} + 4 C_{0}^{2} L^{2} R_{2}^{4} - 2 C_{0} L^{3} R_{2}^{2} + L^{4}}}}{3 C_{0} L R_{2}}$"
      ],
      "text/plain": [
       "       _______________________________________________________________________\n",
       "      ╱                                     __________________________________\n",
       "     ╱      2  2   2            2    2     ╱   4  4   4       3    2   4     2\n",
       "√3⋅╲╱   - C₀ ⋅R ⋅R₂  + 4⋅C₀⋅L⋅R₂  - L  + ╲╱  C₀ ⋅R ⋅R₂  - 8⋅C₀ ⋅L⋅R ⋅R₂  - C₀ \n",
       "──────────────────────────────────────────────────────────────────────────────\n",
       "                                                                  3⋅C₀⋅L⋅R₂   \n",
       "\n",
       "_______________________________________________________________\n",
       "______________________________________________________________ \n",
       "  2  2   2       2  2     3       2  2   4         3   2    4  \n",
       "⋅L ⋅R ⋅R₂  - 6⋅C₀ ⋅L ⋅R⋅R₂  + 4⋅C₀ ⋅L ⋅R₂  - 2⋅C₀⋅L ⋅R₂  + L   \n",
       "───────────────────────────────────────────────────────────────\n",
       "                                                               "
      ]
     },
     "execution_count": 18,
     "metadata": {},
     "output_type": "execute_result"
    }
   ],
   "source": [
    "ww=simplify(sqrt(3)*sqrt(-C0**2*R**2*R2**2 + 4*C0*L*R2**2 - L**2 + sqrt(C0**4*R**4*R2**4 - 8*C0**3*L*R**2*R2**4 - C0**2*L**2*R**2*R2**2 - 6*C0**2*L**2*R*R2**3 + 4*C0**2*L**2*R2**4 - 2*C0*L**3*R2**2 + L**4))/(3*C0*L*R2))\n",
    "ww"
   ]
  },
  {
   "cell_type": "markdown",
   "metadata": {},
   "source": [
    "### Evaluo esta frecuencia en los valores que me da el enunciado"
   ]
  },
  {
   "cell_type": "code",
   "execution_count": 19,
   "metadata": {},
   "outputs": [
    {
     "name": "stdout",
     "output_type": "stream",
     "text": [
      "18311.105286091*sqrt(3)\n",
      "--------------\n"
     ]
    },
    {
     "data": {
      "image/png": "[encoded data removed]",
      "text/latex": [
       "$\\displaystyle 31715.7646982526$"
      ],
      "text/plain": [
       "31715.76469825265"
      ]
     },
     "execution_count": 19,
     "metadata": {},
     "output_type": "execute_result"
    }
   ],
   "source": [
    "print(ww.subs(L,10*1e-3).subs(C,100*1e-9).subs(R,12).subs(R2,50))\n",
    "print('--------------')\n",
    "18311.105286091*np.sqrt(3)"
   ]
  },
  {
   "cell_type": "markdown",
   "metadata": {},
   "source": [
    "### Veo si $\\omega_s=\\sqrt(1/LC)$ da lo mismo o parecido "
   ]
  },
  {
   "cell_type": "code",
   "execution_count": 20,
   "metadata": {},
   "outputs": [
    {
     "data": {
      "image/png": "[encoded data removed]",
      "text/latex": [
       "$\\displaystyle 31622.7766016838$"
      ],
      "text/plain": [
       "31622.776601683792"
      ]
     },
     "execution_count": 20,
     "metadata": {},
     "output_type": "execute_result"
    }
   ],
   "source": [
    "LL=10*1e-3# Ohm * s\n",
    "CC=100*1e-9# s / Ohm\n",
    "np.sqrt(1/(LL*CC))"
   ]
  },
  {
   "cell_type": "code",
   "execution_count": null,
   "metadata": {},
   "outputs": [],
   "source": [
    "T**2 = "
   ]
  },
  {
   "cell_type": "code",
   "execution_count": null,
   "metadata": {},
   "outputs": [],
   "source": [
    "def transf(frec,f0,E,A0,T0):\n",
    "    w = 2*np.pi*frec\n",
    "    w0 = 2*np.pi*f0\n",
    "    A = (w/w0)-(w0/w)\n",
    "    B = 2*E\n",
    "    C = (B/A)**2\n",
    "    return((A0/np.sqrt(1+C))+T0)"
   ]
  },
  {
   "cell_type": "code",
   "execution_count": null,
   "metadata": {},
   "outputs": [],
   "source": [
    "diferencia entra 44721.3595499958 y 31622.7766016838"
   ]
  }
 ],
 "metadata": {
  "kernelspec": {
   "display_name": "Python 3",
   "language": "python",
   "name": "python3"
  },
  "language_info": {
   "codemirror_mode": {
    "name": "ipython",
    "version": 3
   },
   "file_extension": ".py",
   "mimetype": "text/x-python",
   "name": "python",
   "nbconvert_exporter": "python",
   "pygments_lexer": "ipython3",
   "version": "3.7.3"
  }
 },
 "nbformat": 4,
 "nbformat_minor": 5
}
