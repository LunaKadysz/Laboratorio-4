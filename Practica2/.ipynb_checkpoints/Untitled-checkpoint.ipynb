{
 "cells": [
  {
   "cell_type": "code",
   "execution_count": 1,
   "id": "unknown-poland",
   "metadata": {},
   "outputs": [],
   "source": [
    "import matplotlib\n",
    "#matplotlib.use('TkAgg')\n",
    "matplotlib.use('Qt5Agg')\n",
    "import imageio\n",
    "import matplotlib.pyplot as plt\n",
    "from scipy import ndimage\n",
    "from scipy import signal\n",
    "import numpy as np"
   ]
  },
  {
   "cell_type": "code",
   "execution_count": 2,
   "id": "virgin-stroke",
   "metadata": {},
   "outputs": [],
   "source": [
    "AA = imageio.imread('Datos/datos_laton_laser_rojo/grilla_cali_rojo.jpg')"
   ]
  },
  {
   "cell_type": "code",
   "execution_count": 3,
   "id": "naked-savannah",
   "metadata": {},
   "outputs": [],
   "source": [
    "colors = ['Red','Green','Blue']\n",
    "image_dict = {k: np.array(AA[:,:,i])  for i,k in enumerate(colors)}"
   ]
  },
  {
   "cell_type": "code",
   "execution_count": 4,
   "id": "experienced-lawrence",
   "metadata": {},
   "outputs": [
    {
     "data": {
      "text/plain": [
       "Text(0, 0.5, 'Pixeles[px]')"
      ]
     },
     "execution_count": 4,
     "metadata": {},
     "output_type": "execute_result"
    }
   ],
   "source": [
    "%matplotlib qt\n",
    "\n",
    "color = 'Red'\n",
    "A = image_dict[color]\n",
    "R = ndimage.rotate(A, 0.7)\n",
    "plt.figure(figsize = (9, 7.5))\n",
    "plt.imshow(R, cmap=plt.cm.Reds_r)\n",
    "plt.title(f'{color} channel image in {color}')\n",
    "plt.xlabel('Pixeles [px]')\n",
    "plt.ylabel('Pixeles[px]')"
   ]
  },
  {
   "cell_type": "code",
   "execution_count": 5,
   "id": "dimensional-visitor",
   "metadata": {},
   "outputs": [],
   "source": [
    "%matplotlib qt\n",
    "perf2 = R[100:300, 131]\n",
    "plt.figure(figsize = (9, 7.5))\n",
    "plt.plot(perf2)\n",
    "plt.xlabel('Pixeles [px]')\n",
    "plt.ylabel('Intensidad[W/mm²]')\n",
    "plt.title(f'Perfil de Intensidades de la seccion de la regla')\n",
    "x = np.array(plt.ginput(7))[:,0]"
   ]
  },
  {
   "cell_type": "code",
   "execution_count": 9,
   "id": "funny-reset",
   "metadata": {},
   "outputs": [
    {
     "name": "stdout",
     "output_type": "stream",
     "text": [
      "[ 34.87480534 180.52775306]\n",
      "[14.56529477] [14565.29477197]\n"
     ]
    }
   ],
   "source": [
    "print(x)\n",
    "val=np.diff(x)/10 #px/mm\n",
    "val_metros=val*1000\n",
    "print(val,val_metros)"
   ]
  },
  {
   "cell_type": "code",
   "execution_count": null,
   "id": "prescription-postage",
   "metadata": {},
   "outputs": [],
   "source": []
  }
 ],
 "metadata": {
  "kernelspec": {
   "display_name": "Python 3",
   "language": "python",
   "name": "python3"
  },
  "language_info": {
   "codemirror_mode": {
    "name": "ipython",
    "version": 3
   },
   "file_extension": ".py",
   "mimetype": "text/x-python",
   "name": "python",
   "nbconvert_exporter": "python",
   "pygments_lexer": "ipython3",
   "version": "3.9.2"
  }
 },
 "nbformat": 4,
 "nbformat_minor": 5
}
