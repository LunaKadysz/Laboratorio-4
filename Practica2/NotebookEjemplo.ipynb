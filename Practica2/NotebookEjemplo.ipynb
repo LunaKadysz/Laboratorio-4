{
 "cells": [
  {
   "cell_type": "markdown",
   "metadata": {},
   "source": [
    "# Diferencias finitas para ecuaciones en derivadas parciales\n",
    "\n",
    "## Ecuación del transporte\n",
    "\n",
    "En esta clase vamos a emplear el método de diferencias finitas para el problema:\n",
    "\n",
    "$$\n",
    "\\begin{cases}\n",
    "\\displaystyle\\frac{\\partial u(x,t)}{\\partial t} + c\\frac{\\partial u(x,t)}{\\partial x} = 0\\ \\ \\ & \\text{con } (x,t)\\in (0,L)\\times (0, T), \\ \\ \\ c>0 \\\\\n",
    "\\\\\n",
    "u(x,0) = g(x) \\ \\  & x\\in[0,L]\\\\\n",
    "\\\\\n",
    "u(0,t) = f(t)\\ \\ &t\\in[0,T]\n",
    "\\end{cases}\n",
    "$$"
   ]
  },
  {
   "cell_type": "markdown",
   "metadata": {},
   "source": [
    "\n",
    "\n",
    "\n",
    "Vamos a:\n",
    "\n",
    "\n",
    "* Plantear la discretización Forward en tiempo y Backward en espacio\n",
    "* Hallar el error de truncado local\n",
    "* Dar condiciones para la estabilidad en norma infinito\n",
    "* Dar condiciones para la Convergencia"
   ]
  },
  {
   "cell_type": "markdown",
   "metadata": {},
   "source": [
    "## Discretización:\n",
    "\n",
    "Consideremos una grilla con pasos $\\Delta x$ y $\\Delta t$ para $x$ y $t$ respectivamente:\n",
    "\n",
    "$$\n",
    "\\Delta x = \\frac{L}{m}, \\ \\ \\ \\Delta t = \\frac{T}{n}\n",
    "$$\n",
    "\n"
   ]
  },
  {
   "cell_type": "markdown",
   "metadata": {},
   "source": [
    "Asi:\n",
    "    \n",
    "$$\n",
    "\\begin{aligned}\n",
    "x_i = i\\Delta x, &\\ \\  \\text{con } ~i=1,2,\\dots,m \\ \\ \\text{y el borde izquierdo es } x_0 = 0\\\\\n",
    "\\\\\n",
    "t_j = j\\Delta t,  &\\ \\  \\text{con} ~j=1,2,\\dots,n \n",
    "\\end{aligned}\n",
    "$$"
   ]
  },
  {
   "cell_type": "markdown",
   "metadata": {},
   "source": [
    "\n"
   ]
  },
  {
   "cell_type": "markdown",
   "metadata": {},
   "source": [
    "\n"
   ]
  },
  {
   "cell_type": "markdown",
   "metadata": {},
   "source": [
    "Usando el esquema Forward en tiempo y Backward en espacio:\n",
    "\n",
    "$$\n",
    "\\begin{aligned}\n",
    "u_t(x_i,t_j) &\\approx \\frac{u(x_i,t_{j+1}) -u(x_i,t_{j})}{\\Delta t} \\\\\n",
    "\\\\\n",
    "u_x(x_i,t_j) &\\approx \\frac{u(x_i,t_j) -u(x_{i-1},t_{j})}{\\Delta x} \\\\\n",
    "\\\\\n",
    "\\end{aligned}\n",
    "$$\n",
    "\n",
    "$$\n",
    "\\text{con }i=1,2\\dots,m,~~ j =1,2,\\dots,n\n",
    "$$\n",
    "\n"
   ]
  },
  {
   "cell_type": "markdown",
   "metadata": {},
   "source": [
    "\n",
    "\n",
    "\n",
    "\n"
   ]
  },
  {
   "cell_type": "markdown",
   "metadata": {},
   "source": [
    "si denotamos $u_i^j$ la aproximación de $u$ en $(x_i,t_j)$ entonces nos queda el siguiente sistema de ecuaciones:"
   ]
  },
  {
   "cell_type": "markdown",
   "metadata": {},
   "source": [
    "\n",
    "\n"
   ]
  },
  {
   "cell_type": "markdown",
   "metadata": {},
   "source": [
    "$$\n",
    "\\frac{u_i^{j+1}-u_i^j}{\\Delta t} + c\\frac{u_i^j - u_{i-1}^j}{\\Delta x} =0  \\ \\ \\ i=1,\\dots, m, \\ \\ j =1,\\dots n\n",
    "$$\n"
   ]
  },
  {
   "cell_type": "markdown",
   "metadata": {},
   "source": [
    "\n",
    "\n"
   ]
  },
  {
   "cell_type": "markdown",
   "metadata": {},
   "source": [
    "\n",
    "\n",
    "\n"
   ]
  },
  {
   "cell_type": "markdown",
   "metadata": {},
   "source": [
    "\n",
    "\n",
    "\n",
    "\n",
    "Reescribimos la expresión de arriba de tal forma que quede despejado $u_i^{j+1}$ y obtenemos:"
   ]
  },
  {
   "cell_type": "markdown",
   "metadata": {},
   "source": [
    "\n",
    "\n"
   ]
  },
  {
   "cell_type": "markdown",
   "metadata": {},
   "source": [
    "\n",
    "\n"
   ]
  },
  {
   "cell_type": "markdown",
   "metadata": {},
   "source": [
    "$$\n",
    "u_i^{j+1} = c\\frac{\\Delta t}{\\Delta x}u_{i-1}^j + \\left(1 - c\\frac{\\Delta t}{\\Delta x}\\right)u_i^j\n",
    "$$"
   ]
  },
  {
   "cell_type": "markdown",
   "metadata": {},
   "source": [
    "\n",
    "\n"
   ]
  },
  {
   "cell_type": "markdown",
   "metadata": {},
   "source": [
    "\n",
    "\n"
   ]
  },
  {
   "cell_type": "markdown",
   "metadata": {},
   "source": [
    "\n",
    "\n",
    "Observar que la ecuación de arriba nos dice la solución numerica en el tiempo $t_{j+1}$ en términos de lo que vale en el tiempo $t_j$. Así,  para un valor fijo de $j$ se tienen las ecuaciones:\n",
    "\n",
    "\n"
   ]
  },
  {
   "cell_type": "markdown",
   "metadata": {},
   "source": [
    "\n",
    "\n",
    "\n",
    "\n",
    "\n",
    "\n"
   ]
  },
  {
   "cell_type": "markdown",
   "metadata": {},
   "source": [
    "$$\\begin{aligned}\n",
    "i = 1:\\ \\ \\ \\ u_1^{j+1} &= \\left(1 - c\\tfrac{\\Delta t}{\\Delta x}\\right)u_1^j + \\overbrace{c\\tfrac{\\Delta t}{\\Delta x}u_{0}^j}^{\\text{termino independiente}} \\\\\n",
    "\\\\\n",
    "i = 2:\\ \\ \\ \\ u_2^{j+1} &= c\\tfrac{\\Delta t}{\\Delta x}u_{1}^j + \\left(1 - c\\tfrac{\\Delta t}{\\Delta x}\\right)u_2^j\\\\\n",
    "\\\\\n",
    "&\\vdots\\\\\n",
    "\\\\\n",
    "i = m:\\ \\ \\ \\ u_m^{j+1} &= c\\tfrac{\\Delta t}{\\Delta x}u_{m-1}^j + \\left(1 - c\\tfrac{\\Delta t}{\\Delta x}\\right)u_{m}^j\\\\\n",
    "\\end{aligned}\n",
    "$$\n",
    "\n"
   ]
  },
  {
   "cell_type": "markdown",
   "metadata": {},
   "source": [
    "\n",
    "\n"
   ]
  },
  {
   "cell_type": "markdown",
   "metadata": {},
   "source": [
    "\n",
    "\n"
   ]
  },
  {
   "cell_type": "markdown",
   "metadata": {},
   "source": [
    "\n",
    "\n"
   ]
  },
  {
   "cell_type": "markdown",
   "metadata": {},
   "source": [
    "\n",
    "\n",
    "\n",
    "\n",
    "Podemos escribir estas ecuaciones en forma matricial y en forma de 'evolución en el tiempo'"
   ]
  },
  {
   "cell_type": "markdown",
   "metadata": {},
   "source": [
    "\n",
    "\n",
    "\n",
    "\n",
    "\n",
    "\n"
   ]
  },
  {
   "cell_type": "markdown",
   "metadata": {},
   "source": [
    "\n",
    "\n",
    "\n",
    "\n",
    "Denotemos como $\\pmb u^{(j)}= [u_1^j, u_2^j,\\dots,u_m^j]^T$ a la solución numérica en el tiempo $t_j$ y en todos los puntos $x_1,x_2,\\dots,x_m$.\n",
    "\n",
    "\n",
    "Entonces:\n",
    "\n",
    "$$\n",
    "\\begin{equation}\n",
    "\\pmb u^{(j+1)} = A\\pmb u^{(j)} + \\pmb b_j \\ \\ \\ \\text{para cada } j=1,2\\dots,n\n",
    "\\end{equation}\n",
    "$$\n",
    "\n",
    "\n",
    "con"
   ]
  },
  {
   "cell_type": "markdown",
   "metadata": {},
   "source": [
    "\n",
    "\n",
    "\n",
    "\n",
    "\n",
    "\n",
    "\n",
    "\n"
   ]
  },
  {
   "cell_type": "markdown",
   "metadata": {},
   "source": [
    "$$\n",
    "A = \\begin{bmatrix} \n",
    "1-c\\tfrac{\\Delta t}{\\Delta x} & 0                             & \\cdots & & \\\\\n",
    "\\\\\n",
    "c\\tfrac{\\Delta t}{\\Delta x}   &1-c\\tfrac{\\Delta t}{\\Delta x}  & 0      &   &\\\\\n",
    "\\\\\n",
    "      0        & c\\tfrac{\\Delta t}{\\Delta x}   &1-c\\tfrac{\\Delta t}{\\Delta x}  &   0    &   \\\\\n",
    "    \\\\\n",
    " \\vdots        & \\ddots   & \\ddots                        &        & \\\\\n",
    "   \\\\\n",
    " 0              &  &   0    &  c\\tfrac{\\Delta t}{\\Delta x}   &     1-c\\tfrac{\\Delta t}{\\Delta x}   \n",
    "\\end{bmatrix}\n",
    "$$\n",
    "\n",
    "\n",
    "\n"
   ]
  },
  {
   "cell_type": "markdown",
   "metadata": {},
   "source": [
    "\n",
    "\n"
   ]
  },
  {
   "cell_type": "markdown",
   "metadata": {},
   "source": [
    "\n",
    "\n",
    "\n",
    "\n",
    "\n",
    "\n",
    "\n",
    "\n",
    "\n"
   ]
  },
  {
   "cell_type": "markdown",
   "metadata": {},
   "source": [
    "\n",
    "$$\n",
    "\\pmb b_j = \\begin{bmatrix}\n",
    "c\\tfrac{\\Delta t}{\\Delta x}u_0^j\\\\\n",
    "0\\\\\n",
    "\\vdots\\\\\n",
    "0\n",
    "\\end{bmatrix}\\ \\ \\ \\text{la condicion de borde es } u_0^j = g(t_j) \\ \\ \\text{para cada } j=1,2,\\dots,n\n",
    "$$\n",
    "\n",
    "\n",
    "Además la condición inicial nos permite dar el $\\pmb u^{(0)}$. En efecto:  \n",
    "\n",
    "$$\n",
    "\\pmb u^{(0)} = [f(x_1), f(x_2),\\dots,f(x_m)]^T\n",
    "$$"
   ]
  },
  {
   "cell_type": "markdown",
   "metadata": {},
   "source": [
    "\n",
    "\n",
    "\n"
   ]
  },
  {
   "cell_type": "markdown",
   "metadata": {},
   "source": [
    "\n",
    "\n",
    "\n"
   ]
  },
  {
   "cell_type": "markdown",
   "metadata": {},
   "source": [
    "\n",
    "\n",
    "\n",
    "\n",
    "\n",
    "\n"
   ]
  },
  {
   "cell_type": "markdown",
   "metadata": {},
   "source": [
    "## Error de truncado:\n",
    "\n",
    "\n",
    "Recordemos que el esquema numérico nos quedó:\n",
    "\n",
    "$$\n",
    "\\frac{u_i^{j+1}-u_i^j}{\\Delta t} + c\\frac{u_i^j - u_{i-1}^j}{\\Delta x} =0  \\ \\ \\ i=1,\\dots, n, \\ \\ j =1,\\dots m\n",
    "$$\n",
    "\n",
    "\n",
    "\n",
    "\n",
    "\n",
    "\n",
    "\n"
   ]
  },
  {
   "cell_type": "markdown",
   "metadata": {},
   "source": [
    "\n",
    "\n",
    "\n"
   ]
  },
  {
   "cell_type": "markdown",
   "metadata": {},
   "source": [
    "\n",
    "\n",
    "\n"
   ]
  },
  {
   "cell_type": "markdown",
   "metadata": {},
   "source": [
    "\n",
    "\n",
    "\n"
   ]
  },
  {
   "cell_type": "markdown",
   "metadata": {},
   "source": [
    "\n",
    "\n",
    "Para hallar el error de truncado en un paso (en $x$ y en $t$), reemplazamos la solución exacta del problema original (la ecuación del transporte en nuestro caso) en el esquema. Esta solución exacta no satisface el esquema numérico entonces:\n",
    "\n",
    "\n"
   ]
  },
  {
   "cell_type": "markdown",
   "metadata": {},
   "source": [
    "\n",
    "\n",
    "\n",
    "\n",
    "\n",
    "\n",
    "\n",
    "\n",
    "\n",
    "\n"
   ]
  },
  {
   "cell_type": "markdown",
   "metadata": {},
   "source": [
    "\n",
    "\n",
    "\n"
   ]
  },
  {
   "cell_type": "markdown",
   "metadata": {},
   "source": [
    "\n",
    "$$\n",
    "\\frac{u(x_i,t_{j+1})-u(x_i,t_j)}{\\Delta t} + c\\frac{u(x_i,t_j) - u(x_{i-1},t_j)}{\\Delta x} =0 + \\overbrace{R(x_i, t_{j+1})}^{\\text{Error de truncado}}  \\ \\ \\ \\text{para } i=1,\\dots, m, \\ \\ j =1,\\dots n\n",
    "$$\n",
    "\n",
    "\n",
    "\n"
   ]
  },
  {
   "cell_type": "markdown",
   "metadata": {},
   "source": [
    "\n",
    "\n",
    "\n"
   ]
  },
  {
   "cell_type": "markdown",
   "metadata": {},
   "source": [
    "\n",
    "\n",
    "\n"
   ]
  },
  {
   "cell_type": "markdown",
   "metadata": {},
   "source": [
    "\n",
    "\n",
    "\n"
   ]
  },
  {
   "cell_type": "markdown",
   "metadata": {},
   "source": [
    "\n",
    "\n",
    "Ahora usamos (como siempre!) Taylor para expresar $u(x_i, t_{j+1})$ y $u(x_{i-1},t_j)$ en términos de $u(x_i,t_j)$:\n",
    "\n",
    "\n",
    "\n"
   ]
  },
  {
   "cell_type": "markdown",
   "metadata": {},
   "source": [
    "\n",
    "\n",
    "\n",
    "\n",
    "\n",
    "\n"
   ]
  },
  {
   "cell_type": "markdown",
   "metadata": {},
   "source": [
    "\n",
    "\n",
    "\n",
    "\n",
    "\n",
    "\n"
   ]
  },
  {
   "cell_type": "markdown",
   "metadata": {},
   "source": [
    "\n",
    "\n",
    "$$\n",
    "u(x_i,t_{j+1}) = u(x_i, t_j+\\Delta t) = u(x_i,t_j) + \\Delta t u_t(x_i,t_j) +\\tfrac{(\\Delta t)^2}{2}u_{tt}(x_i,\\mu_j)\\ \\ \\text{con } \\mu_j\\in(t_j, t_{j+1})\n",
    "$$\n",
    "\n",
    "\n",
    "\n"
   ]
  },
  {
   "cell_type": "markdown",
   "metadata": {},
   "source": [
    "\n",
    "\n",
    "\n",
    "\n",
    "\n",
    "\n",
    "\n",
    "\n",
    "\n"
   ]
  },
  {
   "cell_type": "markdown",
   "metadata": {},
   "source": [
    "\n",
    "\n",
    "\n",
    "\n",
    "\n",
    "\n"
   ]
  },
  {
   "cell_type": "markdown",
   "metadata": {},
   "source": [
    "\n",
    "$$\n",
    "u(x_{i-1},t_{j}) = u(x_i - \\Delta x, t_j) = u(x_i,t_j) - (\\Delta x) u_x(x_i,t_j) +\\tfrac{(\\Delta x)^2}{2}u_{xx}(\\xi_i, t_j)\\ \\ \\text{con } \\xi_i\\in(x_{i-1}, x_{i})\n",
    "$$\n",
    "\n",
    "\n",
    "\n",
    "\n",
    "\n",
    "\n"
   ]
  },
  {
   "cell_type": "markdown",
   "metadata": {},
   "source": [
    "\n",
    "\n",
    "\n",
    "\n",
    "\n",
    "\n",
    "\n",
    "\n",
    "\n",
    "\n",
    "\n"
   ]
  },
  {
   "cell_type": "markdown",
   "metadata": {},
   "source": [
    "\n",
    "\n",
    "\n",
    "\n",
    "\n",
    "\n",
    "\n",
    "\n",
    "\n",
    "\n",
    "\n"
   ]
  },
  {
   "cell_type": "markdown",
   "metadata": {},
   "source": [
    "\n",
    "\n",
    "\n",
    "\n",
    "\n",
    "\n",
    "\n",
    "\n",
    "\n",
    "\n",
    "\n"
   ]
  },
  {
   "cell_type": "markdown",
   "metadata": {},
   "source": [
    "\n",
    "\n",
    "\n",
    "Reemplazamos estas dos expresiones (y suponiendo las condiciones de suavidad necesarias)\n",
    "\n",
    "\n"
   ]
  },
  {
   "cell_type": "markdown",
   "metadata": {},
   "source": [
    "\n",
    "\n",
    "\n"
   ]
  },
  {
   "cell_type": "markdown",
   "metadata": {},
   "source": [
    "\n",
    "\n",
    "\n"
   ]
  },
  {
   "cell_type": "markdown",
   "metadata": {},
   "source": [
    "\n",
    "\n",
    "\n"
   ]
  },
  {
   "cell_type": "markdown",
   "metadata": {},
   "source": [
    "\n",
    "\n",
    "$$\n",
    "\\frac{\\overbrace{u(x_i,t_j)} + (\\Delta t) u_t(x_i,t_j) +\\tfrac{(\\Delta t)^2}{2}u_{tt}(x_i,\\mu_j)-\\overbrace{u(x_i,t_j)}}{\\Delta t} + c\\frac{\\overbrace{u(x_i,t_j)}^{} - \\overbrace{u(x_i,t_j)}^{} + (\\Delta x )u_x(x_i,t_j) -\\tfrac{(\\Delta x)^2}{2}u_{xx}(\\xi_i, t_j)}{\\Delta x} = R(x_i, t_{j+1})\n",
    "$$\n",
    "\n",
    "\n",
    "\n",
    "\n",
    "\n"
   ]
  },
  {
   "cell_type": "markdown",
   "metadata": {},
   "source": [
    "\n",
    "\n"
   ]
  },
  {
   "cell_type": "markdown",
   "metadata": {},
   "source": [
    "\n",
    "\n"
   ]
  },
  {
   "cell_type": "markdown",
   "metadata": {},
   "source": [
    "\n",
    "\n"
   ]
  },
  {
   "cell_type": "markdown",
   "metadata": {},
   "source": [
    "\n",
    "\n"
   ]
  },
  {
   "cell_type": "markdown",
   "metadata": {},
   "source": [
    "Simplificando:\n",
    "\n",
    "$$\n",
    "u_t(x_i,t_j) +\\tfrac{\\Delta t}{2}u_{tt}(x_i,\\mu_j) + cu_x(x_i,t_j) - \\tfrac{c\\Delta x}{2}u_{xx}(\\xi_i, t_j) = R(x_i,t_{j+1})\n",
    "$$\n",
    "\n"
   ]
  },
  {
   "cell_type": "markdown",
   "metadata": {},
   "source": [
    "\n",
    "\n",
    "\n",
    "\n",
    "\n",
    "\n"
   ]
  },
  {
   "cell_type": "markdown",
   "metadata": {},
   "source": [
    "\n",
    "\n"
   ]
  },
  {
   "cell_type": "markdown",
   "metadata": {},
   "source": [
    "\n",
    "\n"
   ]
  },
  {
   "cell_type": "markdown",
   "metadata": {},
   "source": [
    "\n",
    "\n",
    "usando el hecho que $u$ es solución de la ecuación en derivadas parciales: \n",
    "\n",
    "\n",
    "$$u_t(x_i,t_j) + cu_x(x_i,t_j) = 0 ~~\\text{ para todo } x_i,~ t_j\n",
    "$$\n",
    "\n",
    "\n",
    "nos queda que:\n",
    "\n",
    "\n",
    "$$\n",
    "R(x_i,t_{j+1}) = \\tfrac{\\Delta t}{2}u_{tt}(x_i,\\mu_j)- \\tfrac{c\\Delta x}{2}u_{xx}(\\xi_i, t_j) = O(\\Delta t) + O(\\Delta x)\n",
    "$$\n",
    "\n",
    "\n",
    "\n",
    "\n",
    "\n"
   ]
  },
  {
   "cell_type": "markdown",
   "metadata": {},
   "source": [
    "\n",
    "\n",
    "\n",
    "\n",
    "\n",
    "\n"
   ]
  },
  {
   "cell_type": "markdown",
   "metadata": {},
   "source": [
    "\n",
    "\n"
   ]
  },
  {
   "cell_type": "markdown",
   "metadata": {},
   "source": [
    "\n",
    "\n"
   ]
  },
  {
   "cell_type": "markdown",
   "metadata": {},
   "source": [
    "Vemos que si $\\Delta x, \\Delta t \\to 0$, $R(x_i, t_{j+1})\\to 0$\n",
    "\n",
    "\n",
    "\n"
   ]
  },
  {
   "cell_type": "markdown",
   "metadata": {},
   "source": [
    "\n",
    "\n",
    "\n",
    "\n",
    "\n",
    "\n"
   ]
  },
  {
   "cell_type": "markdown",
   "metadata": {},
   "source": [
    "\n",
    "\n"
   ]
  },
  {
   "cell_type": "markdown",
   "metadata": {},
   "source": [
    "\n",
    "\n"
   ]
  },
  {
   "cell_type": "markdown",
   "metadata": {},
   "source": [
    "\n",
    "\n"
   ]
  },
  {
   "cell_type": "markdown",
   "metadata": {},
   "source": [
    "\n",
    "\n"
   ]
  },
  {
   "cell_type": "markdown",
   "metadata": {},
   "source": [
    "## Estabilidad del método:\n",
    "\n",
    "\n",
    "Este método nos permite hallar la solución numérica a un tiempo $t_j$ en términos del anterior, partiendo del conocimiento de la solción a tiempo $t_0 =0 $ (el paso 0 de la iteración) $\\pmb u^{(0)}$.\n",
    "\n",
    "\n",
    "Supongamos que por alguna razón no tenemos exactamente $\\pmb u^{(0)}$ sino un estado aproximado $\\tilde{\\pmb u}^{(0)}$. Esto puede deberse a errores de redondeo por ejemplo.\n",
    "\n"
   ]
  },
  {
   "cell_type": "markdown",
   "metadata": {},
   "source": [
    "\n",
    "\n",
    "\n",
    "\n",
    "\n",
    "\n"
   ]
  },
  {
   "cell_type": "markdown",
   "metadata": {},
   "source": [
    "\n",
    "\n"
   ]
  },
  {
   "cell_type": "markdown",
   "metadata": {},
   "source": [
    "Llamemos $\\pmb\\epsilon^{(0)} =\\tilde{\\pmb u}^{(0)} - \\pmb u^{(0)}$\n",
    "\n",
    "\n",
    "entonces en el paso $j$ del algoritmo:\n",
    "\n",
    "$$\n",
    "\\pmb\\epsilon^{(j)} =\\tilde{\\pmb u}^{(j)} - \\pmb u^{(j)} = A\\tilde{\\pmb u}^{(j-1)} +\\pmb b_{j-1}  - (A\\pmb u^{(j-1)} +\\pmb b_{j-1}) = A(\\tilde{\\pmb u}^{(j-1)} - \\pmb u^{(j-1)})  \\ \\  \\ \\ \\ \\forall j\n",
    "$$\n",
    "\n",
    "es decir:\n",
    "\n",
    "$$\n",
    "\\pmb\\epsilon^{(j)} = A\\pmb\\epsilon^{(j-1)}\n",
    "$$\n",
    "\n"
   ]
  },
  {
   "cell_type": "markdown",
   "metadata": {},
   "source": [
    "\n",
    "o siguiendo con la recurrencia:\n",
    "\n",
    "$$\n",
    "\\pmb\\epsilon^{(j)} = A\\pmb\\epsilon^{(j-1)}= A^2\\pmb\\epsilon^{(j-2)} =\\cdots = A^j\\pmb\\epsilon^{(0)}\n",
    "$$\n",
    "\n",
    "\n"
   ]
  },
  {
   "cell_type": "markdown",
   "metadata": {},
   "source": [
    "\n",
    "\n"
   ]
  },
  {
   "cell_type": "markdown",
   "metadata": {},
   "source": [
    "\n",
    "Esto nos dice que los errores se propagan como:\n",
    "\n",
    "$$\n",
    "\\pmb\\epsilon^{(j)} = A^j\\pmb\\epsilon^{(0)}, \\ \\ \\ j=1,2,\\dots   \n",
    "$$\n",
    "\n"
   ]
  },
  {
   "cell_type": "markdown",
   "metadata": {},
   "source": [
    "\n",
    "\n",
    "\n",
    "\n",
    "\n",
    "\n"
   ]
  },
  {
   "cell_type": "markdown",
   "metadata": {},
   "source": [
    "\n",
    "\n"
   ]
  },
  {
   "cell_type": "markdown",
   "metadata": {},
   "source": [
    "Decimos que el método es estable con respecto de una norma $|| \\cdot ||$ si este error $\\pmb\\epsilon^{(j)}$ puede acotarse en términos de la perturbación inicial $\\pmb \\epsilon^{(0)}$. Es decir si:\n",
    "\n",
    "$$\n",
    "||\\pmb\\epsilon^{(j)}||\\leq C|| \\pmb\\epsilon^{(0)}||\n",
    "$$\n",
    "\n"
   ]
  },
  {
   "cell_type": "markdown",
   "metadata": {},
   "source": [
    "\n",
    "\n",
    "\n",
    "\n",
    "\n",
    "\n"
   ]
  },
  {
   "cell_type": "markdown",
   "metadata": {},
   "source": [
    "\n",
    "\n"
   ]
  },
  {
   "cell_type": "markdown",
   "metadata": {},
   "source": [
    "\n",
    "\n"
   ]
  },
  {
   "cell_type": "markdown",
   "metadata": {},
   "source": [
    "Si para este caso particular nos preguntamos por la estabilidad con respecto de la norma infinito, entonces queremos que \n",
    "\n",
    "\n",
    "$$\n",
    "||\\pmb\\epsilon^{(j)}||_\\infty=||A^j \\pmb\\epsilon^{(0)}||_{\\infty} \\leq C|| \\pmb\\epsilon^{(0)}||_{\\infty}\n",
    "$$\n",
    "\n"
   ]
  },
  {
   "cell_type": "markdown",
   "metadata": {},
   "source": [
    "\n",
    "\n",
    "\n",
    "\n",
    "\n",
    "\n",
    "\n",
    "\n"
   ]
  },
  {
   "cell_type": "markdown",
   "metadata": {},
   "source": [
    "\n",
    "\n",
    "\n",
    "\n",
    "\n",
    "\n"
   ]
  },
  {
   "cell_type": "markdown",
   "metadata": {},
   "source": [
    "\n",
    "\n"
   ]
  },
  {
   "cell_type": "markdown",
   "metadata": {},
   "source": [
    "\n",
    "La próxima clase vamos a ver de forma mas detallada normas matriciales y veremos que vale lo siguiente (stay tuned!):\n",
    "\n",
    "\n"
   ]
  },
  {
   "cell_type": "markdown",
   "metadata": {},
   "source": [
    "\n",
    "\n",
    "\n",
    "\n",
    "\n",
    "\n"
   ]
  },
  {
   "cell_type": "markdown",
   "metadata": {},
   "source": [
    "\n",
    "\n"
   ]
  },
  {
   "cell_type": "markdown",
   "metadata": {},
   "source": [
    "$$\n",
    "||\\pmb\\epsilon^{(j)}||_\\infty=||A^j \\pmb\\epsilon^{(0)}||_{\\infty}\\leq ||A^j||_{\\infty}||\\pmb\\epsilon^{(0)}||_{\\infty}\\leq||A||_{\\infty}^j||\\pmb\\epsilon^{(0)}||_{\\infty}\n",
    "$$"
   ]
  },
  {
   "cell_type": "markdown",
   "metadata": {},
   "source": [
    "\n",
    "\n",
    "\n",
    "\n",
    "\n",
    "\n"
   ]
  },
  {
   "cell_type": "markdown",
   "metadata": {},
   "source": [
    "\n",
    "\n"
   ]
  },
  {
   "cell_type": "markdown",
   "metadata": {},
   "source": [
    "La norma infinito de matrices es la norma inducida por la norma infinito de vectores: si $\\pmb v\\in \\mathbb R^n$\n",
    "\n",
    "$$\n",
    "|| \\pmb v||_\\infty = \\max_{1\\leq k\\leq n}\\{|v_k| \\}\n",
    "$$\n",
    "\n",
    "y vale (por ahora lo creemos!) que:\n",
    "\n",
    "\n",
    "$$\n",
    "||A||_{\\infty} = \\max_{1\\leq i\\leq m}\\sum_{j=1}^n |a_{ij}|\n",
    "$$\n",
    "\n",
    "\n"
   ]
  },
  {
   "cell_type": "markdown",
   "metadata": {},
   "source": [
    "\n"
   ]
  },
  {
   "cell_type": "markdown",
   "metadata": {},
   "source": [
    "\n"
   ]
  },
  {
   "cell_type": "markdown",
   "metadata": {},
   "source": [
    "En nuestro caso la matriz $A$ es :\n",
    "\n",
    "$$\n",
    "A = \\begin{bmatrix} \n",
    "1-c\\tfrac{\\Delta t}{\\Delta x} & 0                             & \\cdots & & \\\\\n",
    "\\\\\n",
    "c\\tfrac{\\Delta t}{\\Delta x}   &1-c\\tfrac{\\Delta t}{\\Delta x}  & 0      &   &\\\\\n",
    "\\\\\n",
    "      0        & c\\tfrac{\\Delta t}{\\Delta x}   &1-c\\tfrac{\\Delta t}{\\Delta x}  &   0    &   \\\\\n",
    "    \\\\\n",
    " \\vdots        & \\ddots   & \\ddots                        &        & \\\\\n",
    "   \\\\\n",
    " 0              &  &   0    &  c\\tfrac{\\Delta t}{\\Delta x}   &     1-c\\tfrac{\\Delta t}{\\Delta x}   \n",
    "\\end{bmatrix}\n",
    "$$\n",
    "\n",
    "\n",
    "\n"
   ]
  },
  {
   "cell_type": "markdown",
   "metadata": {},
   "source": [
    "\n"
   ]
  },
  {
   "cell_type": "markdown",
   "metadata": {},
   "source": [
    "\n"
   ]
  },
  {
   "cell_type": "markdown",
   "metadata": {},
   "source": [
    "si sumamos los modulos de los elementos sobre cada fila:\n",
    "\n",
    "$$\n",
    "i = 1:\\ \\ \\ |1-c\\tfrac{\\Delta t}{\\Delta x}|\n",
    "$$\n",
    "\n",
    "\n",
    "$$\n",
    "i= 2,\\dots, m:\\ \\ \\  |c\\tfrac{\\Delta t}{\\Delta x}| + |1-c\\tfrac{\\Delta t}{\\Delta x}|\n",
    "$$\n"
   ]
  },
  {
   "cell_type": "markdown",
   "metadata": {},
   "source": [
    "\n"
   ]
  },
  {
   "cell_type": "markdown",
   "metadata": {},
   "source": [
    "\n"
   ]
  },
  {
   "cell_type": "markdown",
   "metadata": {},
   "source": [
    "Entonces \n",
    "\n",
    "$$\n",
    "||A||_{\\infty} = \\max\\left\\{\\left|1-c\\tfrac{\\Delta t}{\\Delta x}\\right|,~\\left|c\\tfrac{\\Delta t}{\\Delta x}\\right| + \\left|1-c\\tfrac{\\Delta t}{\\Delta x}\\right|\\right\\}\n",
    "$$\n"
   ]
  },
  {
   "cell_type": "markdown",
   "metadata": {},
   "source": [
    "\n"
   ]
  },
  {
   "cell_type": "markdown",
   "metadata": {},
   "source": [
    "\n"
   ]
  },
  {
   "cell_type": "markdown",
   "metadata": {},
   "source": [
    "\n"
   ]
  },
  {
   "cell_type": "markdown",
   "metadata": {},
   "source": [
    "Así, si \n",
    "$$\n",
    "c\\tfrac{\\Delta t}{\\Delta x}\\leq1$$\n"
   ]
  },
  {
   "cell_type": "markdown",
   "metadata": {},
   "source": [
    "\n",
    "\n",
    "\n"
   ]
  },
  {
   "cell_type": "markdown",
   "metadata": {},
   "source": [
    "\n",
    "\n",
    "\n"
   ]
  },
  {
   "cell_type": "markdown",
   "metadata": {},
   "source": [
    "\n",
    "\n",
    "\n"
   ]
  },
  {
   "cell_type": "markdown",
   "metadata": {},
   "source": [
    "\n",
    "entonces \n",
    "\n",
    "$$\n",
    "||A||_\\infty  = \\max\\left\\{1-c\\tfrac{\\Delta t}{\\Delta x}, ~ 1 \\right\\} = 1\n",
    "$$"
   ]
  },
  {
   "cell_type": "markdown",
   "metadata": {},
   "source": [
    "\n",
    "\n",
    "\n"
   ]
  },
  {
   "cell_type": "markdown",
   "metadata": {},
   "source": [
    "\n",
    "\n",
    "\n"
   ]
  },
  {
   "cell_type": "markdown",
   "metadata": {},
   "source": [
    "Es decir:\n",
    "\n",
    "$$\n",
    "\\text{si  }c\\tfrac{\\Delta t}{\\Delta x}\\leq1 \\ \\ \\ \\text{entonces }  ||\\pmb\\epsilon^{(j)}||_\\infty\\leq ||\\pmb\\epsilon^{(0)}||_\\infty\\ \\ \\ \\ j=1,\\dots\n",
    "$$\n",
    "\n",
    "y el método es estable!\n",
    "\n"
   ]
  },
  {
   "cell_type": "markdown",
   "metadata": {},
   "source": [
    "\n",
    "\n",
    "\n"
   ]
  },
  {
   "cell_type": "markdown",
   "metadata": {},
   "source": [
    "\n",
    "\n",
    "\n"
   ]
  },
  {
   "cell_type": "markdown",
   "metadata": {},
   "source": [
    "\n",
    "\n",
    "\n"
   ]
  },
  {
   "cell_type": "markdown",
   "metadata": {},
   "source": [
    "## Convergencia del método:\n",
    "\n",
    "Para la probar la convergencia tenemos que ver que el error global en el paso $j$ del método (a tiempo $t_j$) tiende a 0 si $\\Delta x, \\Delta t\\to 0$.\n",
    "\n",
    "Sea \n",
    "$$\n",
    "e_i^{j+1} = u(x_i, t_{j+1}) - u_i^{j+1}\n",
    "$$\n",
    "\n",
    "la diferencia entre la solución exacta del problema original y la solución del esquema numérico.\n",
    "\n",
    "\n",
    "\n"
   ]
  },
  {
   "cell_type": "markdown",
   "metadata": {},
   "source": [
    "\n",
    "\n",
    "\n"
   ]
  },
  {
   "cell_type": "markdown",
   "metadata": {},
   "source": [
    "\n",
    "\n",
    "\n"
   ]
  },
  {
   "cell_type": "markdown",
   "metadata": {},
   "source": [
    "\n",
    "\n",
    "\n"
   ]
  },
  {
   "cell_type": "markdown",
   "metadata": {},
   "source": [
    "Sabemos que \n",
    "\n",
    "$$\n",
    "u(x_i,t_{j+1}) = c\\tfrac{\\Delta t}{\\Delta x}u(x_{i-1},t_j)~ + ~(1-c\\tfrac{\\Delta t}{\\Delta x})u(x_i,t_j) ~+~\\Delta t R(x_i,t_{j+1})\n",
    "$$\n",
    "\n",
    "\n",
    "\n",
    "\n"
   ]
  },
  {
   "cell_type": "markdown",
   "metadata": {},
   "source": [
    "\n",
    "\n",
    "\n"
   ]
  },
  {
   "cell_type": "markdown",
   "metadata": {},
   "source": [
    "\n",
    "\n",
    "\n"
   ]
  },
  {
   "cell_type": "markdown",
   "metadata": {},
   "source": [
    "\n",
    "entonces \n",
    "\n",
    "$$\n",
    "\\begin{aligned}\n",
    "e_i^{j+1} =& ~ c\\tfrac{\\Delta t}{\\Delta x}\\left(u(x_{i-1},t_j)-u_{i-1}^j\\right)~ + ~\\left(1-c\\tfrac{\\Delta t}{\\Delta x}\\right)\\left(u(x_i,t_j)- u_i^j\\right)~ +~\\Delta t R(x_i,t_{j+1})\\\\\n",
    "\\\\\n",
    "=& ~c\\tfrac{\\Delta t}{\\Delta x}e_{i-1}^j ~+ ~(1-c\\tfrac{\\Delta t}{\\Delta x})e_i^j ~+~ \\Delta t R(x_i,t_{j+1}) ~~\\text{para cada } i\n",
    "\\end{aligned}\n",
    "$$\n",
    "\n"
   ]
  },
  {
   "cell_type": "markdown",
   "metadata": {},
   "source": [
    "\n",
    "\n",
    "\n"
   ]
  },
  {
   "cell_type": "markdown",
   "metadata": {},
   "source": [
    "\n",
    "\n",
    "\n"
   ]
  },
  {
   "cell_type": "markdown",
   "metadata": {},
   "source": [
    "\n",
    "Definimos el error global a tiempo $t_j$ como\n",
    "\n",
    "$$\n",
    "E^{(j)} = \\max_{1\\leq i\\leq m}~\\{~|e_i^j|~\\}\n",
    "$$\n",
    "\n",
    "y sea \n",
    "$$\n",
    "R^{(j)} = \\max_{1\\leq i\\leq m}~\\{~|R(x_i,t_{j})|~\\}\n",
    "$$"
   ]
  },
  {
   "cell_type": "markdown",
   "metadata": {},
   "source": [
    "\n",
    "\n",
    "\n"
   ]
  },
  {
   "cell_type": "markdown",
   "metadata": {},
   "source": [
    "como \n",
    "\n",
    "$$\n",
    "\\left|e_i^{j+1}\\right| \\leq c\\left|\\tfrac{\\Delta t}{\\Delta x}\\right|\\left|e_{i-1}^j\\right| +  \\left|1-c\\tfrac{\\Delta t}{\\Delta x}\\right|\\left|e_i^j~\\right| + \\left|\\Delta t R(x_i,t_{j+1})\\right|\n",
    "$$\n",
    "\n",
    "\n"
   ]
  },
  {
   "cell_type": "markdown",
   "metadata": {},
   "source": [
    "\n",
    "\n",
    "\n"
   ]
  },
  {
   "cell_type": "markdown",
   "metadata": {},
   "source": [
    "\n",
    "\n",
    "Entonces\n",
    "\n",
    "$$\n",
    "E^{(j+1)} \\leq c\\left|\\tfrac{\\Delta t}{\\Delta x}\\right| E^{(j)} +  \\left|1-c\\tfrac{\\Delta t}{\\Delta x}\\right|E^{(j)} + \\left|\\Delta t \\right|R^{(j+1)}\n",
    "$$\n"
   ]
  },
  {
   "cell_type": "markdown",
   "metadata": {},
   "source": [
    "\n",
    "\n",
    "\n"
   ]
  },
  {
   "cell_type": "markdown",
   "metadata": {},
   "source": [
    "si vale la condición: $c\\tfrac{\\Delta t}{\\Delta x}\\leq 1$\n",
    "\n",
    "\n",
    "Entonces:\n",
    "\n",
    "\n",
    "\n",
    "\n",
    "\n"
   ]
  },
  {
   "cell_type": "markdown",
   "metadata": {},
   "source": [
    "\n",
    "\n",
    "\n"
   ]
  },
  {
   "cell_type": "markdown",
   "metadata": {},
   "source": [
    "$$\n",
    "\\begin{aligned}\n",
    "E^{(j+1)} \\leq& ~E^{(j)} + \\Delta t R^{(j+1)}\\\\\n",
    "\\\\\n",
    "\\leq &~ E^{(j-1)} + \\Delta t R^{(j)} + \\Delta t R^{(j+1)}\\\\\n",
    "\\vdots&\\\\\n",
    "\\leq & ~\\Delta t R^{(1)} + \\Delta t R^{(2)} + \\cdots +\\Delta t R^{(j+1)}\\\\\n",
    "\\\\\n",
    " = &~ \\Delta t\\sum_{k=1}^{j+1} R^{(k)} \\leq \\Delta t\\sum_{k=1}^{n} \\max_{1\\leq i\\leq m}|R(x_i,t_{k})|\\\\\n",
    " \\leq & ~ \\Delta t \\cdot n\\cdot\\max_{1\\leq i\\leq m}\\max_{1\\leq k\\leq n}|R(x_i,t_{k})|\\\\\n",
    " \\\\\n",
    " =& ~ T(O(\\Delta t) + O(\\Delta x)) \\ \\ \\ \\text{usamos que } n =T/\\Delta t\n",
    "\\end{aligned}\n",
    "$$\n"
   ]
  },
  {
   "cell_type": "markdown",
   "metadata": {},
   "source": [
    "\n",
    "\n",
    "Podemos decir que $E^{(j+1)}\\to 0$ si $\\Delta x, \\Delta t\\to 0$\n"
   ]
  },
  {
   "cell_type": "markdown",
   "metadata": {},
   "source": [
    "\n",
    "\n",
    "\n"
   ]
  },
  {
   "cell_type": "code",
   "execution_count": 3,
   "metadata": {},
   "outputs": [
    {
     "data": {
      "image/png": "[encoded data removed]",
      "text/plain": [
       "<Figure size 1200x600 with 1 Axes>"
      ]
     },
     "metadata": {
      "needs_background": "light"
     },
     "output_type": "display_data"
    }
   ],
   "source": [
    "import numpy as np\n",
    "import matplotlib.pyplot as plt\n",
    "from scipy.linalg import *\n",
    "from mpl_toolkits.mplot3d import Axes3D  # noqa: F401 unused import\n",
    "from matplotlib import cm\n",
    "from matplotlib.ticker import LinearLocator, FormatStrFormatter\n",
    "\n",
    "\n",
    "def tridiagonal(dlow,d, dhigh):\n",
    "    \"\"\"\n",
    "    Contructs the tridiagonal matrix with diagonals dlow, d, dhigh (subdiagonal, diagonal, supdiagonal)\n",
    "    \"\"\"\n",
    "    return np.diag(dlow,-1)+ np.diag(d) + np.diag(dhigh,1)\n",
    "\n",
    "def Transport(u0, u_boundary, c, delx, tspan, xspan, *param):\n",
    "    \"\"\"\n",
    "    \n",
    "    Parameters\n",
    "    ----------\n",
    "    u0 : function object --> initial condition\n",
    "    u_boundary : function object --> boundary condition\n",
    "    delx : float --> space step\n",
    "    tspan : tuple --> limits of time interval\n",
    "    xspan : tuple --> limits of space interval\n",
    "    \n",
    "    stability condition for this scheme is that c<=delx/delt so: delt <= delx/c\n",
    "    \n",
    "    Returns\n",
    "    --------\n",
    "    x : np.array--> x grid points\n",
    "    t : np.array--> t grid points\n",
    "    U : np.array (matrix) solution\n",
    "    \"\"\"\n",
    "    delt = 0.7*delx/c\n",
    "    \n",
    "    t = np.arange(tspan[0], tspan[1], delt)\n",
    "    x = np.arange(xspan[0], xspan[1], delx)\n",
    "    \n",
    "    N = len(x) \n",
    "    \n",
    "    # define the tridiagonal matrix:\n",
    "    courant = c*delt/delx\n",
    "    d = (1 - courant)*np.ones(N)\n",
    "    dlow = courant*np.ones(N-1)\n",
    "    dhigh = np.zeros(N-1)\n",
    "    \n",
    "    A = tridiagonal(dlow, d, dhigh)\n",
    "    \n",
    "    # for each level of time, the solution at each point x is : u^j = Au^{j-1} + b_j\n",
    "    \n",
    "    U = np.zeros((N,len(t)))\n",
    "    U[:,0] = u0(x, *param)\n",
    "    \n",
    "    for j in range(1, len(t)):\n",
    "        U[:,j] = A@U[:,j-1] + courant*np.hstack((u_boundary(t[j]),np.zeros(N-1)))\n",
    "    \n",
    "    \n",
    "    return x, t, U\n",
    "\n",
    "\n",
    "## Ejemplo 1:\n",
    "\n",
    "u0 = lambda x : np.sin(2*np.pi*x)\n",
    "u_boundary = lambda t: np.sin(-2*c*np.pi*t)\n",
    "c = 1\n",
    "x,t, U = Transport(u0 , u_boundary, c, 1e-3, (0,2), (0,1)) \n",
    "\n",
    "# plot the solution\n",
    "T, X = np.meshgrid(t,x)\n",
    "fig1 = plt.figure(figsize=(12,6), dpi =80)\n",
    "fig1.set_dpi(100)\n",
    "ax1 = fig1.gca(projection='3d')\n",
    "surf = ax1.plot_surface(T, X, U, cmap=cm.coolwarm,linewidth=0.5, antialiased=True)\n",
    "ax1.set_xlabel('time')\n",
    "ax1.set_ylabel('position')\n",
    "ax1.set_zlabel('u')\n",
    "ax1.view_init(30,30)\n",
    "plt.show()\n",
    "\n",
    "\n",
    "#plot the solution  each 50 steps of time\n",
    "\n",
    "#fig, ax = plt.subplots()\n",
    "\n",
    "#for i in range(len(t)):\n",
    "#    if i%50 == 0:\n",
    "#        ax.cla()\n",
    "#        ax.plot(x,U[:,i])\n",
    "#        ax.set_title('time sanpshot '+ str(round(t[i], 2)) + ' seconds')\n",
    "#        plt.xlim(-0.5,1.5)\n",
    "#        plt.pause(0.5)\n",
    "\n",
    "#plt.show()"
   ]
  },
  {
   "cell_type": "code",
   "execution_count": null,
   "metadata": {},
   "outputs": [],
   "source": []
  }
 ],
 "metadata": {
  "kernelspec": {
   "display_name": "Python 3",
   "language": "python",
   "name": "python3"
  },
  "language_info": {
   "codemirror_mode": {
    "name": "ipython",
    "version": 3
   },
   "file_extension": ".py",
   "mimetype": "text/x-python",
   "name": "python",
   "nbconvert_exporter": "python",
   "pygments_lexer": "ipython3",
   "version": "3.7.3"
  }
 },
 "nbformat": 4,
 "nbformat_minor": 4
}
