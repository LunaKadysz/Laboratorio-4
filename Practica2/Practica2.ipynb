{
 "cells": [
  {
   "cell_type": "markdown",
   "metadata": {},
   "source": [
    "## Actividad 2.2 \n",
    "### Sensores de distancia – longitud:\n",
    "Elegir la tarea de medición mencionadas en la lista, según su número de grupo (Grupo 14 vuelvea la tarea 1). Para esta tarea, elegir un sistema de medición o sensor para realizarla y justifiquen(puede ser otro sensor que no hayamos mencionado en la clase eh!)\n",
    "\n",
    "1.Distancia de la superficie de la tierra a una nube o capa de aerosoles atmosféricos\n",
    "\n",
    "2.Dimensiones edilicias de una fábrica\n",
    "\n",
    "3.Control del diámetro de agujeros de arandelas en una línea de producción.\n",
    "\n",
    "4.Deformación por dilatación térmica del bloque del motor de un automóvil.\n",
    "\n",
    "5.Distancia de la Tierra a la Luna.\n",
    "\n",
    "6.Control de posición del cabezal de una impresora tipo plotter.\n",
    "\n",
    "7.Distancia entre un automóvil y un obstáculo para maniobra de estacionamiento.\n",
    "\n",
    "8.Diámetro de una broca de perforación (mecha) de taladro.\n",
    "\n",
    "9.Distancia entre vehículos en movimiento para sistemas de conducción autónoma.\n",
    "\n",
    "10.Diámetro de un cabello humano.\n",
    "\n",
    "\n",
    "11.Distancia entre pupilas oculares humanas para fabricación de anteojos.\n",
    "\n",
    "12.Mediciones antropométricas para reconocimiento facial.\n",
    "\n",
    "13.Medición para realimentación de un sistema de actuadores para control de vuelo o de unbrazo robot.Reportar el intervalo de \n",
    "valores de distancias típicas para esa tarea y las precisiones requeridaspara dichas mediciones.\n",
    "\n",
    "Justificar la elección del sistema de medición. Considerar tanto los rangos y precisiones del siste-ma de medición elegido como los aspectos metodológicos o procedimentales necesarios para rea-lizar la tarea.Buscar un equipo comercial o experimental que sea capaz de realizar la medición. Incluir cita olink al artículo u hoja de datos consultado. Reportar las especificaciones del instrumento o experi-mento que considere útiles para justificar la elección.Forma de entrega: Para la fecha definida en el cronograma, deberán armar una pre-sentación mínima (una, dos o a lo sumo tres diapositivas) describiendo las caracte-rísticas de la tarea a realizar, el sensor o instrumento elegido y una justificación paraello, basados en alguna especificación del mismo."
   ]
  },
  {
   "cell_type": "code",
   "execution_count": null,
   "metadata": {},
   "outputs": [],
   "source": []
  },
  {
   "cell_type": "code",
   "execution_count": null,
   "metadata": {},
   "outputs": [],
   "source": []
  },
  {
   "cell_type": "code",
   "execution_count": null,
   "metadata": {},
   "outputs": [],
   "source": []
  },
  {
   "cell_type": "code",
   "execution_count": null,
   "metadata": {},
   "outputs": [],
   "source": []
  }
 ],
 "metadata": {
  "kernelspec": {
   "display_name": "Python 3",
   "language": "python",
   "name": "python3"
  },
  "language_info": {
   "codemirror_mode": {
    "name": "ipython",
    "version": 3
   },
   "file_extension": ".py",
   "mimetype": "text/x-python",
   "name": "python",
   "nbconvert_exporter": "python",
   "pygments_lexer": "ipython3",
   "version": "3.7.3"
  }
 },
 "nbformat": 4,
 "nbformat_minor": 2
}
