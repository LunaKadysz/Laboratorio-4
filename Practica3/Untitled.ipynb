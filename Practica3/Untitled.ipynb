{
 "cells": [
  {
   "cell_type": "code",
   "execution_count": 19,
   "id": "underlying-webmaster",
   "metadata": {},
   "outputs": [
    {
     "data": {
      "text/latex": [
       "$\\displaystyle \\frac{8 L^{4} \\rho w}{bl^{4} r^{2}}$"
      ],
      "text/plain": [
       "8*L**4*rho*w/(bl**4*r**2)"
      ]
     },
     "execution_count": 19,
     "metadata": {},
     "output_type": "execute_result"
    }
   ],
   "source": [
    "##sympy output\n",
    "import sympy as sy\n",
    "import numpy as np\n",
    "\n",
    "r,w,L,bl,rho = sy.symbols('r w L bl rho', real=True)\n",
    "E=w**2 * (L/bl)**4 * rho * 4/(r**2)\n",
    "\n",
    "sy.diff(E,w)"
   ]
  },
  {
   "cell_type": "code",
   "execution_count": 7,
   "id": "dedicated-tract",
   "metadata": {},
   "outputs": [
    {
     "data": {
      "text/latex": [
       "$\\displaystyle - \\frac{8 L^{4} \\rho w^{2}}{bl^{4} r^{3}}$"
      ],
      "text/plain": [
       "-8*L**4*rho*w**2/(bl**4*r**3)"
      ]
     },
     "execution_count": 7,
     "metadata": {},
     "output_type": "execute_result"
    }
   ],
   "source": [
    "sy.diff(E,r)"
   ]
  },
  {
   "cell_type": "code",
   "execution_count": 8,
   "id": "warming-myanmar",
   "metadata": {},
   "outputs": [
    {
     "data": {
      "text/latex": [
       "$\\displaystyle \\frac{16 L^{3} \\rho w^{2}}{bl^{4} r^{2}}$"
      ],
      "text/plain": [
       "16*L**3*rho*w**2/(bl**4*r**2)"
      ]
     },
     "execution_count": 8,
     "metadata": {},
     "output_type": "execute_result"
    }
   ],
   "source": [
    "sy.diff(E,L)"
   ]
  },
  {
   "cell_type": "code",
   "execution_count": 9,
   "id": "correct-environment",
   "metadata": {},
   "outputs": [
    {
     "data": {
      "text/latex": [
       "$\\displaystyle \\frac{4 L^{4} w^{2}}{bl^{4} r^{2}}$"
      ],
      "text/plain": [
       "4*L**4*w**2/(bl**4*r**2)"
      ]
     },
     "execution_count": 9,
     "metadata": {},
     "output_type": "execute_result"
    }
   ],
   "source": [
    "sy.diff(E,rho)"
   ]
  },
  {
   "cell_type": "code",
   "execution_count": 40,
   "id": "arctic-shoulder",
   "metadata": {},
   "outputs": [],
   "source": [
    "r1 = 2 * 0.001 #m\n",
    "L1 = 240 * 0.001 #m\n",
    "rho1 = 7850\n",
    "w1 = 32.348041927062184\n",
    "bl1 = 1.875"
   ]
  },
  {
   "cell_type": "code",
   "execution_count": 41,
   "id": "scientific-auction",
   "metadata": {},
   "outputs": [
    {
     "data": {
      "text/plain": [
       "447079980.2169881"
      ]
     },
     "execution_count": 41,
     "metadata": {},
     "output_type": "execute_result"
    }
   ],
   "source": [
    "#Error w\n",
    "np.sqrt(((8*(L1**4)*rho1*(w1**2)/((bl1**4)*(r1**3)))**2*((0.0002)**2))+((16*(L1**3)*rho1*(w1**2)/((bl1**4)*(r1**2)))**2*((0.002)**2))+((4*(L1**4)*(w1**2)/((bl1**4)*(r1**2)))**2*(1**2)))"
   ]
  },
  {
   "cell_type": "code",
   "execution_count": 32,
   "id": "enclosed-charles",
   "metadata": {},
   "outputs": [
    {
     "name": "stdout",
     "output_type": "stream",
     "text": [
      "1.5377512254513377e+18\n"
     ]
    }
   ],
   "source": [
    "print(((8*(L1**4)*rho1*(w1**2)/((bl1**4)*(r1**3)))**2*((0.0002)**2)))"
   ]
  },
  {
   "cell_type": "code",
   "execution_count": 33,
   "id": "union-comparison",
   "metadata": {},
   "outputs": [
    {
     "name": "stdout",
     "output_type": "stream",
     "text": [
      "4.271531181809271e+16\n"
     ]
    }
   ],
   "source": [
    "print(((16*(L1**3)*rho1*(w1**2)/((bl1**4)*(r1**2)))**2*((0.002)**2)))"
   ]
  },
  {
   "cell_type": "code",
   "execution_count": 34,
   "id": "humanitarian-treaty",
   "metadata": {},
   "outputs": [
    {
     "name": "stdout",
     "output_type": "stream",
     "text": [
      "623859477240.999\n"
     ]
    }
   ],
   "source": [
    "print(((4*(L1**4)*(w1**2)/((bl1**4)*(r1**2)))**2*(1**2)))"
   ]
  },
  {
   "cell_type": "code",
   "execution_count": null,
   "id": "sonic-microphone",
   "metadata": {},
   "outputs": [],
   "source": []
  }
 ],
 "metadata": {
  "kernelspec": {
   "display_name": "Python 3",
   "language": "python",
   "name": "python3"
  },
  "language_info": {
   "codemirror_mode": {
    "name": "ipython",
    "version": 3
   },
   "file_extension": ".py",
   "mimetype": "text/x-python",
   "name": "python",
   "nbconvert_exporter": "python",
   "pygments_lexer": "ipython3",
   "version": "3.9.2"
  }
 },
 "nbformat": 4,
 "nbformat_minor": 5
}
