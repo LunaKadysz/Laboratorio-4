{
 "cells": [
  {
   "cell_type": "code",
   "execution_count": 1,
   "id": "adjustable-ending",
   "metadata": {},
   "outputs": [
    {
     "data": {
      "text/latex": [
       "$\\displaystyle \\frac{8 L^{4} \\rho w}{bl^{4} r^{2}}$"
      ],
      "text/plain": [
       "8*L**4*rho*w/(bl**4*r**2)"
      ]
     },
     "execution_count": 1,
     "metadata": {},
     "output_type": "execute_result"
    }
   ],
   "source": [
    "##sympy output\n",
    "import sympy as sy\n",
    "import numpy as np\n",
    "\n",
    "r,w,L,bl,rho = sy.symbols('r w L bl rho', real=True)\n",
    "E=w**2 * (L/bl)**4 * rho * 4/(r**2)\n",
    "\n",
    "sy.diff(E,w)"
   ]
  },
  {
   "cell_type": "code",
   "execution_count": 7,
   "id": "driving-facility",
   "metadata": {},
   "outputs": [
    {
     "data": {
      "text/latex": [
       "$\\displaystyle - \\frac{8 L^{4} \\rho w^{2}}{bl^{4} r^{3}}$"
      ],
      "text/plain": [
       "-8*L**4*rho*w**2/(bl**4*r**3)"
      ]
     },
     "execution_count": 7,
     "metadata": {},
     "output_type": "execute_result"
    }
   ],
   "source": [
    "sy.diff(E,r)"
   ]
  },
  {
   "cell_type": "code",
   "execution_count": 8,
   "id": "optimum-nudist",
   "metadata": {},
   "outputs": [
    {
     "data": {
      "text/latex": [
       "$\\displaystyle \\frac{16 L^{3} \\rho w^{2}}{bl^{4} r^{2}}$"
      ],
      "text/plain": [
       "16*L**3*rho*w**2/(bl**4*r**2)"
      ]
     },
     "execution_count": 8,
     "metadata": {},
     "output_type": "execute_result"
    }
   ],
   "source": [
    "sy.diff(E,L)"
   ]
  },
  {
   "cell_type": "code",
   "execution_count": 9,
   "id": "bizarre-mongolia",
   "metadata": {},
   "outputs": [
    {
     "data": {
      "text/latex": [
       "$\\displaystyle \\frac{4 L^{4} w^{2}}{bl^{4} r^{2}}$"
      ],
      "text/plain": [
       "4*L**4*w**2/(bl**4*r**2)"
      ]
     },
     "execution_count": 9,
     "metadata": {},
     "output_type": "execute_result"
    }
   ],
   "source": [
    "sy.diff(E,rho)"
   ]
  },
  {
   "cell_type": "code",
   "execution_count": 40,
   "id": "mexican-premises",
   "metadata": {},
   "outputs": [],
   "source": [
    "r1 = 2 * 0.001 #m\n",
    "L1 = 240 * 0.001 #m\n",
    "rho1 = 7850\n",
    "w1 = 32.348041927062184\n",
    "bl1 = 1.875"
   ]
  },
  {
   "cell_type": "code",
   "execution_count": 41,
   "id": "freelance-missile",
   "metadata": {},
   "outputs": [
    {
     "data": {
      "text/plain": [
       "447079980.2169881"
      ]
     },
     "execution_count": 41,
     "metadata": {},
     "output_type": "execute_result"
    }
   ],
   "source": [
    "#Error w\n",
    "np.sqrt(((8*(L1**4)*rho1*(w1**2)/((bl1**4)*(r1**3)))**2*((0.0002)**2))+((16*(L1**3)*rho1*(w1**2)/((bl1**4)*(r1**2)))**2*((0.002)**2))+((4*(L1**4)*(w1**2)/((bl1**4)*(r1**2)))**2*(1**2)))"
   ]
  },
  {
   "cell_type": "code",
   "execution_count": 32,
   "id": "traditional-annotation",
   "metadata": {},
   "outputs": [
    {
     "name": "stdout",
     "output_type": "stream",
     "text": [
      "1.5377512254513377e+18\n"
     ]
    }
   ],
   "source": [
    "print(((8*(L1**4)*rho1*(w1**2)/((bl1**4)*(r1**3)))**2*((0.0002)**2)))"
   ]
  },
  {
   "cell_type": "code",
   "execution_count": 33,
   "id": "forward-commons",
   "metadata": {},
   "outputs": [
    {
     "name": "stdout",
     "output_type": "stream",
     "text": [
      "4.271531181809271e+16\n"
     ]
    }
   ],
   "source": [
    "print(((16*(L1**3)*rho1*(w1**2)/((bl1**4)*(r1**2)))**2*((0.002)**2)))"
   ]
  },
  {
   "cell_type": "code",
   "execution_count": 34,
   "id": "universal-tulsa",
   "metadata": {},
   "outputs": [
    {
     "name": "stdout",
     "output_type": "stream",
     "text": [
      "623859477240.999\n"
     ]
    }
   ],
   "source": [
    "print(((4*(L1**4)*(w1**2)/((bl1**4)*(r1**2)))**2*(1**2)))"
   ]
  },
  {
   "cell_type": "code",
   "execution_count": 2,
   "id": "complete-velvet",
   "metadata": {},
   "outputs": [
    {
     "name": "stdout",
     "output_type": "stream",
     "text": [
      "0.07531207150822017\n"
     ]
    }
   ],
   "source": [
    "uepa=0.4137714303894159\n",
    "eue=0.7956718378126013\n",
    "k=(4*np.pi*2*uepa**2)*eue/((4*np.pi + uepa**2)**(3/2))\n",
    "print(k)"
   ]
  },
  {
   "cell_type": "code",
   "execution_count": 2,
   "id": "australian-point",
   "metadata": {},
   "outputs": [
    {
     "name": "stdout",
     "output_type": "stream",
     "text": [
      " La frecuencia del modo 1 es 32.531401772381884 Hz\n",
      " La frecuencia del modo 2 es 203.88552966326534 Hz\n",
      " La frecuencia del modo 3 es 570.7974537251092 Hz\n"
     ]
    }
   ],
   "source": [
    "def w_i(betaL):\n",
    "    r = 2.3 * 0.001 #m\n",
    "    L = 255 * 0.001 #m\n",
    "    E = 91.7 * 1e+9 #Pa\n",
    "    rho = 8400 # kg/m3\n",
    "    A = np.pi * r**2\n",
    "    I = (np.pi * r**4 )/4\n",
    "    zeta=0.1\n",
    "    \n",
    "    w_i = (betaL/L)**2 * np.sqrt( (E * I * (1-zeta**2) ) / (rho * A) )\n",
    "    return w_i\n",
    "\n",
    "betaL_i = [1.875, 4.694, 7.854]\n",
    "w = []\n",
    "for i,b in enumerate(betaL_i):\n",
    "    w.append(w_i(b))\n",
    "    print(f' La frecuencia del modo {i+1} es {w_i(b)/(2*np.pi)} Hz')"
   ]
  },
  {
   "cell_type": "code",
   "execution_count": 41,
   "id": "hazardous-satisfaction",
   "metadata": {},
   "outputs": [
    {
     "name": "stdout",
     "output_type": "stream",
     "text": [
      "61.09372728940412\n",
      "5.796950164791182\n"
     ]
    }
   ],
   "source": [
    "d = 4.6 * 0.001 #m\n",
    "L = 255 * 0.001 #m\n",
    "E = 91.7 * 1e+9 #Pa\n",
    "\n",
    "\n",
    "bL=4.694\n",
    "dd=bL**2 / (4*L**2) * np.sqrt(E*(1-0.1**2)/8400)\n",
    "dL=d*bL**2 / (2*L**3) * np.sqrt(E*(1-0.1**2)/8400)\n",
    "dE=d*bL**2 / (8*L**2) * np.sqrt((1-0.1**2)/(8400*E))\n",
    "dz=d*bL**2 / (4*L**2) * np.sqrt(E*0.1**2/(8400*(1-0.1**2)))\n",
    "\n",
    "ew=np.sqrt((dd*0.2*0.001)**2+(dL*2*0.001)**2+(dE*1.72*1e+9)**2+(dz*0.07)**2)\n",
    "print(ew)\n",
    "\n",
    "w=33.5\n",
    "\n",
    "dw=2*w*((4/d)**2)*((L/bL)**4)*(8400/(1-(0.1**2)))\n",
    "dd=(2/(d**3))*((4*w)**2)*((L/bL)**4)*(8400/(1-(0.1**2)))\n",
    "dL=((4*w/d)**2)*(4*(L**3)/(bL**4))*(8400/(1-(0.1**2)))\n",
    "dz=((4*w/d)**2)*((L/bL)**4)*(8400*2*0.1/((1-(0.1**2))**2))\n",
    "\n",
    "eE=np.sqrt((dw*0.3)**2+(dd*0.2)**2+(dL*2)**2+(dz*0.07)**2)*1e-9\n",
    "print(eE)"
   ]
  },
  {
   "cell_type": "code",
   "execution_count": 20,
   "id": "professional-philosophy",
   "metadata": {},
   "outputs": [],
   "source": [
    "import sympy.stats as sys"
   ]
  },
  {
   "cell_type": "code",
   "execution_count": 22,
   "id": "greatest-antigua",
   "metadata": {},
   "outputs": [
    {
     "data": {
      "text/latex": [
       "$\\displaystyle 4 x + \\frac{x}{y} + 3 y$"
      ],
      "text/plain": [
       "4*x + x/y + 3*y"
      ]
     },
     "execution_count": 22,
     "metadata": {},
     "output_type": "execute_result"
    }
   ],
   "source": [
    "x, y = sy.symbols(\"x y\")\n",
    "\n",
    "f=x/y+3*y+4*x\n",
    "\n",
    "sys.variance(f)"
   ]
  },
  {
   "cell_type": "code",
   "execution_count": null,
   "id": "convinced-trace",
   "metadata": {},
   "outputs": [],
   "source": []
  }
 ],
 "metadata": {
  "kernelspec": {
   "display_name": "Python 3",
   "language": "python",
   "name": "python3"
  },
  "language_info": {
   "codemirror_mode": {
    "name": "ipython",
    "version": 3
   },
   "file_extension": ".py",
   "mimetype": "text/x-python",
   "name": "python",
   "nbconvert_exporter": "python",
   "pygments_lexer": "ipython3",
   "version": "3.9.2"
  }
 },
 "nbformat": 4,
 "nbformat_minor": 5
}
