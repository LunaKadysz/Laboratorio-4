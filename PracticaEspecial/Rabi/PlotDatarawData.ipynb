{
 "cells": [
  {
   "cell_type": "code",
   "execution_count": 1,
   "id": "apparent-promotion",
   "metadata": {},
   "outputs": [],
   "source": [
    "import os\n",
    "import re\n",
    "import matplotlib\n",
    "import imageio\n",
    "import matplotlib.pyplot as plt\n",
    "from scipy import ndimage\n",
    "from scipy import signal\n",
    "import numpy as np \n",
    "import pandas as pd\n",
    "import seaborn as sns\n",
    "from scipy.optimize import curve_fit\n",
    "plt.style.use('seaborn-darkgrid')"
   ]
  },
  {
   "cell_type": "markdown",
   "id": "spread-concrete",
   "metadata": {},
   "source": [
    "### Creo un diccioonario con los nombres de las carpetas y el contenido de ellas, luesgo busco las carpetas que tienen trace names diferentes y las agrupo en distintos diccionarios uno para cada trace names.\n",
    "\n",
    "### Tambien hay carpetas que tienen archivos bkp, esos si son necesarios habria que tomarlos tambien."
   ]
  },
  {
   "cell_type": "code",
   "execution_count": 2,
   "id": "consolidated-suspension",
   "metadata": {},
   "outputs": [
    {
     "name": "stdout",
     "output_type": "stream",
     "text": [
      "Las carpetas con trace names 'without 866' 'with 866 and 854' son:\n",
      "[58, 59, 60, 61, 62, 63, 64, 65, 66, 67, 68, 69, 70, 71, 72]\n",
      "--------------------\n",
      "Las carpetas con trace names 'rsbAx' 'bsbAx' son:\n",
      "[0, 4, 74, 75, 77, 78, 81, 82, 84, 85]\n",
      "--------------------\n",
      "Las carpetas con trace names 'rsbRad1' 'bsbRad1' son:\n",
      "[1, 5]\n",
      "--------------------\n",
      "Las carpetas con trace names 'rsbRad2' 'bsbRad2' son:\n",
      "[2, 6]\n",
      "--------------------\n",
      "Las carpetas con trace names 'carrier dopp cool' 'carrier SB cool' son:\n",
      "[3, 7, 73, 76, 79, 80, 83]\n"
     ]
    }
   ],
   "source": [
    "files = {os.path.splitext(k)[0]: {} for k in os.listdir('data/rawData')}\n",
    "\n",
    "for i,file in enumerate(os.listdir('data/rawData')):\n",
    "    name=str(os.path.splitext(file)[0])\n",
    "    f = open(f'data/rawData/{name}/rawdataEMCCD.dat').read().split()\n",
    "    files[name]=f\n",
    "# Busco las carpetas que tienen trace names diferentes y las agrupo en distintos\n",
    "# diccionarios uno para cada trace names.\n",
    "\n",
    "# Tambien hay carpetas que tienen archivos bkp, esos si son necesarios habria que tomarlos tambien.\n",
    "l=[]\n",
    "l1=[]\n",
    "l2=[]\n",
    "l3=[]\n",
    "l4=[]\n",
    "\n",
    "for i in files:\n",
    "    if files[i][14]==\"866'\":\n",
    "        l.append(int(i))\n",
    "    elif files[i][13]==\"'rsbAx'\":\n",
    "        l1.append(int(i))\n",
    "    elif files[i][13]==\"'rsbRad1'\":\n",
    "        l2.append(int(i))\n",
    "    elif files[i][13]==\"'rsbRad2'\":\n",
    "        l3.append(int(i))\n",
    "    elif files[i][13]==\"'carrier\":\n",
    "        l4.append(int(i))\n",
    "\n",
    "l=sorted(l)\n",
    "l1=sorted(l1)\n",
    "l2=sorted(l2)\n",
    "l3=sorted(l3)\n",
    "l4=sorted(l4)\n",
    "print(\"Las carpetas con trace names 'without 866' 'with 866 and 854' son:\")\n",
    "print(l)\n",
    "print('--------------------')\n",
    "print(\"Las carpetas con trace names 'rsbAx' 'bsbAx' son:\")\n",
    "print(l1)\n",
    "print('--------------------')\n",
    "print(\"Las carpetas con trace names 'rsbRad1' 'bsbRad1' son:\")\n",
    "print(l2)\n",
    "print('--------------------')\n",
    "print(\"Las carpetas con trace names 'rsbRad2' 'bsbRad2' son:\")\n",
    "print(l3)\n",
    "print('--------------------')\n",
    "print(\"Las carpetas con trace names 'carrier dopp cool' 'carrier SB cool' son:\")\n",
    "print(l4)\n",
    "\n",
    "# Armo los diccionarios para cada trace name\n",
    "w866={}\n",
    "rsbAx={}\n",
    "rsbRad1={}\n",
    "rsbRad2={}\n",
    "cdc={}\n",
    "\n",
    "# Lleno los diccionarios con sus respectivos archivos\n",
    "for i in l:\n",
    "    if i<8:\n",
    "        flo=[]\n",
    "        for j in files['0'+str(i)][46:]:\n",
    "            flo.append(float(j))\n",
    "        w866[str(i)]=np.transpose(flo)\n",
    "    else:\n",
    "        flo=[]\n",
    "        for j in files[str(i)][46:]:\n",
    "            flo.append(float(j))\n",
    "        w866[str(i)]=np.transpose(flo)\n",
    "\n",
    "for i in l1:\n",
    "    if i<8:\n",
    "        flo=[]\n",
    "        for j in files['0'+str(i)][42:]:\n",
    "            flo.append(float(j))\n",
    "        rsbAx[str(i)]=np.transpose(flo)\n",
    "    else:\n",
    "        flo=[]\n",
    "        for j in files[str(i)][42:]:\n",
    "            flo.append(float(j))\n",
    "        rsbAx[str(i)]=np.transpose(flo)\n",
    "\n",
    "for i in l2:\n",
    "    if i<8:\n",
    "        flo=[]\n",
    "        for j in files['0'+str(i)][42:]:\n",
    "            flo.append(float(j))\n",
    "        rsbRad1[str(i)]=np.transpose(flo)\n",
    "    else:\n",
    "        flo=[]\n",
    "        for j in files[str(i)][42:]:\n",
    "            flo.append(float(j))\n",
    "        rsbRad1[str(i)]=np.transpose(flo)\n",
    "\n",
    "for i in l3:\n",
    "    if i<8:\n",
    "        flo=[]\n",
    "        for j in files['0'+str(i)][42:]:\n",
    "            flo.append(float(j))\n",
    "        rsbRad2[str(i)]=np.transpose(flo)\n",
    "    else:\n",
    "        flo=[]\n",
    "        for j in files[str(i)][42:]:\n",
    "            flo.append(float(j))\n",
    "        rsbRad2[str(i)]=np.transpose(flo)\n",
    "\n",
    "for i in l4:\n",
    "    if i<8:\n",
    "        flo=[]\n",
    "        for j in files['0'+str(i)][46:]:\n",
    "            flo.append(float(j))\n",
    "        cdc[str(i)]=np.transpose(flo)\n",
    "    else:\n",
    "        flo=[]\n",
    "        for j in files[str(i)][46:]:\n",
    "            flo.append(float(j))\n",
    "        cdc[str(i)]=np.transpose(flo)\n",
    "        \n",
    "# Arreglo los archivos de el diccionario file pero tomando desde el dato 46, me voy a comer alguno datos\n",
    "# para algunos archivos\n",
    "\n",
    "for i in files.keys():\n",
    "    val=[]\n",
    "    for j in files[i][46:]:\n",
    "        val.append(float(j))\n",
    "    files[i]=np.transpose(val)\n"
   ]
  },
  {
   "cell_type": "markdown",
   "id": "fifteen-elimination",
   "metadata": {},
   "source": [
    "### Los archivos estan cargados ahora en forma de arrays"
   ]
  },
  {
   "cell_type": "code",
   "execution_count": 4,
   "id": "chemical-measure",
   "metadata": {},
   "outputs": [
    {
     "data": {
      "text/plain": [
       "6912"
      ]
     },
     "execution_count": 4,
     "metadata": {},
     "output_type": "execute_result"
    }
   ],
   "source": [
    "len(cdc['3'])"
   ]
  },
  {
   "cell_type": "code",
   "execution_count": null,
   "id": "extreme-correlation",
   "metadata": {},
   "outputs": [],
   "source": []
  }
 ],
 "metadata": {
  "kernelspec": {
   "display_name": "Python 3",
   "language": "python",
   "name": "python3"
  },
  "language_info": {
   "codemirror_mode": {
    "name": "ipython",
    "version": 3
   },
   "file_extension": ".py",
   "mimetype": "text/x-python",
   "name": "python",
   "nbconvert_exporter": "python",
   "pygments_lexer": "ipython3",
   "version": "3.9.2"
  }
 },
 "nbformat": 4,
 "nbformat_minor": 5
}
