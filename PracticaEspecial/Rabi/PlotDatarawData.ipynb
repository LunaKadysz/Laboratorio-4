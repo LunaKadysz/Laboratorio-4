{
 "cells": [
  {
   "cell_type": "code",
   "execution_count": 46,
   "id": "apparent-promotion",
   "metadata": {},
   "outputs": [],
   "source": [
    "import os\n",
    "import re\n",
    "import matplotlib\n",
    "import imageio\n",
    "import matplotlib.pyplot as plt\n",
    "from scipy import ndimage\n",
    "from scipy import signal\n",
    "import numpy as np \n",
    "import pandas as pd\n",
    "import seaborn as sns\n",
    "from scipy.optimize import curve_fit\n",
    "from sys import argv\n",
    "from scipy.special import factorial\n",
    "from scipy.stats import poisson\n",
    "import seaborn as sns\n",
    "from scipy.special import factorial, gammaln\n",
    "plt.style.use('seaborn-darkgrid')"
   ]
  },
  {
   "cell_type": "markdown",
   "id": "spread-concrete",
   "metadata": {},
   "source": [
    "### Creo un diccioonario con los nombres de las carpetas y el contenido de ellas, luesgo busco las carpetas que tienen trace names diferentes y las agrupo en distintos diccionarios uno para cada trace names.\n",
    "\n",
    "### Tambien hay carpetas que tienen archivos bkp, esos si son necesarios habria que tomarlos tambien."
   ]
  },
  {
   "cell_type": "code",
   "execution_count": 5,
   "id": "consolidated-suspension",
   "metadata": {},
   "outputs": [
    {
     "name": "stdout",
     "output_type": "stream",
     "text": [
      "Las carpetas con trace names 'without 866' 'with 866 and 854' son:\n",
      "[58, 59, 60, 61, 62, 63, 64, 65, 66, 67, 68, 69, 70, 71, 72]\n",
      "--------------------\n",
      "Las carpetas con trace names 'rsbAx' 'bsbAx' son:\n",
      "[0, 4, 74, 75, 77, 78, 81, 82, 84, 85]\n",
      "--------------------\n",
      "Las carpetas con trace names 'rsbRad1' 'bsbRad1' son:\n",
      "[1, 5]\n",
      "--------------------\n",
      "Las carpetas con trace names 'rsbRad2' 'bsbRad2' son:\n",
      "[2, 6]\n",
      "--------------------\n",
      "Las carpetas con trace names 'carrier dopp cool' 'carrier SB cool' son:\n",
      "[3, 7, 73, 76, 79, 80, 83]\n"
     ]
    }
   ],
   "source": [
    "files = {os.path.splitext(k)[0]: {} for k in os.listdir('data/rawData')}\n",
    "\n",
    "for i,file in enumerate(os.listdir('data/rawData')):\n",
    "    name=str(os.path.splitext(file)[0])\n",
    "    f = open(f'data/rawData/{name}/rawdataEMCCD.dat').read().split()\n",
    "    files[name]=f\n",
    "# Busco las carpetas que tienen trace names diferentes y las agrupo en distintos\n",
    "# diccionarios uno para cada trace names.\n",
    "\n",
    "# Tambien hay carpetas que tienen archivos bkp, esos si son necesarios habria que tomarlos tambien.\n",
    "l=[]\n",
    "l1=[]\n",
    "l2=[]\n",
    "l3=[]\n",
    "l4=[]\n",
    "\n",
    "for i in files:\n",
    "    if files[i][14]==\"866'\":\n",
    "        l.append(int(i))\n",
    "    elif files[i][13]==\"'rsbAx'\":\n",
    "        l1.append(int(i))\n",
    "    elif files[i][13]==\"'rsbRad1'\":\n",
    "        l2.append(int(i))\n",
    "    elif files[i][13]==\"'rsbRad2'\":\n",
    "        l3.append(int(i))\n",
    "    elif files[i][13]==\"'carrier\":\n",
    "        l4.append(int(i))\n",
    "\n",
    "l=sorted(l)\n",
    "l1=sorted(l1)\n",
    "l2=sorted(l2)\n",
    "l3=sorted(l3)\n",
    "l4=sorted(l4)\n",
    "print(\"Las carpetas con trace names 'without 866' 'with 866 and 854' son:\")\n",
    "print(l)\n",
    "print('--------------------')\n",
    "print(\"Las carpetas con trace names 'rsbAx' 'bsbAx' son:\")\n",
    "print(l1)\n",
    "print('--------------------')\n",
    "print(\"Las carpetas con trace names 'rsbRad1' 'bsbRad1' son:\")\n",
    "print(l2)\n",
    "print('--------------------')\n",
    "print(\"Las carpetas con trace names 'rsbRad2' 'bsbRad2' son:\")\n",
    "print(l3)\n",
    "print('--------------------')\n",
    "print(\"Las carpetas con trace names 'carrier dopp cool' 'carrier SB cool' son:\")\n",
    "print(l4)\n",
    "\n",
    "# Armo los diccionarios para cada trace name\n",
    "w866={}\n",
    "rsbAx={}\n",
    "rsbRad1={}\n",
    "rsbRad2={}\n",
    "cdc={}\n",
    "\n",
    "# Lleno los diccionarios con sus respectivos archivos\n",
    "for i in l:\n",
    "    if i<8:\n",
    "        flo=[]\n",
    "        for j in files['0'+str(i)][46:]:\n",
    "            flo.append(float(j))\n",
    "        w866[str(i)]=np.transpose(flo)\n",
    "    else:\n",
    "        flo=[]\n",
    "        for j in files[str(i)][46:]:\n",
    "            flo.append(float(j))\n",
    "        w866[str(i)]=np.transpose(flo)\n",
    "\n",
    "for i in l1:\n",
    "    if i<8:\n",
    "        flo=[]\n",
    "        for j in files['0'+str(i)][42:]:\n",
    "            flo.append(float(j))\n",
    "        rsbAx[str(i)]=np.transpose(flo)\n",
    "    else:\n",
    "        flo=[]\n",
    "        for j in files[str(i)][42:]:\n",
    "            flo.append(float(j))\n",
    "        rsbAx[str(i)]=np.transpose(flo)\n",
    "\n",
    "for i in l2:\n",
    "    if i<8:\n",
    "        flo=[]\n",
    "        for j in files['0'+str(i)][42:]:\n",
    "            flo.append(float(j))\n",
    "        rsbRad1[str(i)]=np.transpose(flo)\n",
    "    else:\n",
    "        flo=[]\n",
    "        for j in files[str(i)][42:]:\n",
    "            flo.append(float(j))\n",
    "        rsbRad1[str(i)]=np.transpose(flo)\n",
    "\n",
    "for i in l3:\n",
    "    if i<8:\n",
    "        flo=[]\n",
    "        for j in files['0'+str(i)][42:]:\n",
    "            flo.append(float(j))\n",
    "        rsbRad2[str(i)]=np.transpose(flo)\n",
    "    else:\n",
    "        flo=[]\n",
    "        for j in files[str(i)][42:]:\n",
    "            flo.append(float(j))\n",
    "        rsbRad2[str(i)]=np.transpose(flo)\n",
    "\n",
    "for i in l4:\n",
    "    if i<8:\n",
    "        flo=[]\n",
    "        for j in files['0'+str(i)][46:]:\n",
    "            flo.append(float(j))\n",
    "        cdc[str(i)]=np.transpose(flo)\n",
    "    else:\n",
    "        flo=[]\n",
    "        for j in files[str(i)][46:]:\n",
    "            flo.append(float(j))\n",
    "        cdc[str(i)]=np.transpose(flo)\n",
    "        \n",
    "# Arreglo los archivos de el diccionario file pero tomando desde el dato 46, me voy a comer alguno datos\n",
    "# para algunos archivos\n",
    "\n",
    "for i in files.keys():\n",
    "    val=[]\n",
    "    for j in files[i][46:]:\n",
    "        val.append(float(j))\n",
    "    files[i]=np.transpose(val)\n"
   ]
  },
  {
   "cell_type": "markdown",
   "id": "fifteen-elimination",
   "metadata": {},
   "source": [
    "### Hallando los paramteros $\\lambda$\n",
    "Los archivos estan cargados ahora en forma de arrays"
   ]
  },
  {
   "cell_type": "code",
   "execution_count": 52,
   "id": "chemical-measure",
   "metadata": {},
   "outputs": [],
   "source": [
    "def fit_function(k, lamb):\n",
    "    '''poisson function, parameter lamb is the fit parameter'''\n",
    "    return  poisson.pmf(k, lamb)\n",
    "\n",
    "def poisson_(k, lamb,a,offy,offx,b):\n",
    "    \"\"\"poisson pdf, parameter lamb is the fit parameter\"\"\"\n",
    "    return a*( (np.exp(-lamb) * lamb**(b*k+offx)) /factorial(b*k+offx) )+offy \n",
    "\n",
    "def poisson_approx(k, lamb,a,offy,offx,b):\n",
    "    \"\"\"poisson pdf, parameter lamb is the fit parameter\"\"\"\n",
    "    return  a*(np.exp( (b*k+offx)*np.log(lamb)-lamb - gammaln *((b*k+offx) + 1)))+offy\n",
    "\n",
    "def two_poisson(k, lamb,a,offy,offx,b, lamb2,a2,offy2,offx2,b2):\n",
    "    sum_ =  (a*( (np.exp(-lamb) * lamb**(b*k+offx)) /factorial(b*k+offx) )+offy ) + (a2*( (np.exp(-lamb2) * lamb2**(b2*k+offx2)) /factorial(b2*k+offx2) )+offy2) \n",
    "    return sum_"
   ]
  },
  {
   "cell_type": "code",
   "execution_count": 7,
   "id": "extreme-correlation",
   "metadata": {},
   "outputs": [],
   "source": [
    "dicts = [w866,rsbAx,rsbRad1,rsbRad2,cdc]"
   ]
  },
  {
   "cell_type": "code",
   "execution_count": 98,
   "id": "ecc02f29",
   "metadata": {},
   "outputs": [
    {
     "name": "stderr",
     "output_type": "stream",
     "text": [
      "<ipython-input-52-270c8ee123b8>:14: RuntimeWarning: invalid value encountered in power\n",
      "  sum_ =  (a*( (np.exp(-lamb) * lamb**(b*k+offx)) /factorial(b*k+offx) )+offy ) + (a2*( (np.exp(-lamb2) * lamb2**(b2*k+offx2)) /factorial(b2*k+offx2) )+offy2)\n",
      "<ipython-input-52-270c8ee123b8>:14: RuntimeWarning: overflow encountered in power\n",
      "  sum_ =  (a*( (np.exp(-lamb) * lamb**(b*k+offx)) /factorial(b*k+offx) )+offy ) + (a2*( (np.exp(-lamb2) * lamb2**(b2*k+offx2)) /factorial(b2*k+offx2) )+offy2)\n",
      "<ipython-input-52-270c8ee123b8>:14: RuntimeWarning: invalid value encountered in true_divide\n",
      "  sum_ =  (a*( (np.exp(-lamb) * lamb**(b*k+offx)) /factorial(b*k+offx) )+offy ) + (a2*( (np.exp(-lamb2) * lamb2**(b2*k+offx2)) /factorial(b2*k+offx2) )+offy2)\n",
      "<ipython-input-52-270c8ee123b8>:14: RuntimeWarning: divide by zero encountered in true_divide\n",
      "  sum_ =  (a*( (np.exp(-lamb) * lamb**(b*k+offx)) /factorial(b*k+offx) )+offy ) + (a2*( (np.exp(-lamb2) * lamb2**(b2*k+offx2)) /factorial(b2*k+offx2) )+offy2)\n"
     ]
    },
    {
     "data": {
      "text/plain": [
       "<matplotlib.legend.Legend at 0x1f4e58aaeb0>"
      ]
     },
     "execution_count": 98,
     "metadata": {},
     "output_type": "execute_result"
    },
    {
     "data": {
      "image/png": "[encoded data removed]",
      "text/plain": [
       "<Figure size 720x360 with 1 Axes>"
      ]
     },
     "metadata": {
      "needs_background": "light"
     },
     "output_type": "display_data"
    }
   ],
   "source": [
    "#PRUEBA DE AJUSTE CON UN GRAFICO\n",
    "\n",
    "entries, bin_edges, patches = plt.hist(rsbAx['4'],bins=int(max(dict_[file])/4))\n",
    "x = np.delete(bin_edges,0,0)\n",
    "y = entries\n",
    "\n",
    "param, param_cov = curve_fit(two_poisson,x,y, p0=[90,10000,220,5,0.5,60,10000,220,10,0.5])\n",
    "%matplotlib inline\n",
    "plt.figure(figsize = (10,5))\n",
    "plt.plot(x,y,label='Original Data')\n",
    "plt.plot(x,two_poisson(x,param[0],param[1],param[2],param[3],param[4],param[5],param[6],param[7],param[8],param[9]), label =f\"Curve Fit Poisson\",ls='dashed',color='red') \n",
    "plt.legend()\n",
    "#print(param)"
   ]
  },
  {
   "cell_type": "code",
   "execution_count": 99,
   "id": "3d4e82ae",
   "metadata": {},
   "outputs": [
    {
     "name": "stderr",
     "output_type": "stream",
     "text": [
      "<ipython-input-52-270c8ee123b8>:14: RuntimeWarning: overflow encountered in power\n",
      "  sum_ =  (a*( (np.exp(-lamb) * lamb**(b*k+offx)) /factorial(b*k+offx) )+offy ) + (a2*( (np.exp(-lamb2) * lamb2**(b2*k+offx2)) /factorial(b2*k+offx2) )+offy2)\n",
      "<ipython-input-52-270c8ee123b8>:14: RuntimeWarning: invalid value encountered in true_divide\n",
      "  sum_ =  (a*( (np.exp(-lamb) * lamb**(b*k+offx)) /factorial(b*k+offx) )+offy ) + (a2*( (np.exp(-lamb2) * lamb2**(b2*k+offx2)) /factorial(b2*k+offx2) )+offy2)\n"
     ]
    },
    {
     "ename": "RuntimeError",
     "evalue": "Optimal parameters not found: Number of calls to function has reached maxfev = 2200.",
     "output_type": "error",
     "traceback": [
      "\u001b[1;31m---------------------------------------------------------------------------\u001b[0m",
      "\u001b[1;31mRuntimeError\u001b[0m                              Traceback (most recent call last)",
      "\u001b[1;32m<ipython-input-99-cf934769a04c>\u001b[0m in \u001b[0;36m<module>\u001b[1;34m\u001b[0m\n\u001b[0;32m      8\u001b[0m         \u001b[0my\u001b[0m \u001b[1;33m=\u001b[0m \u001b[0mentries\u001b[0m\u001b[1;33m\u001b[0m\u001b[1;33m\u001b[0m\u001b[0m\n\u001b[0;32m      9\u001b[0m \u001b[1;33m\u001b[0m\u001b[0m\n\u001b[1;32m---> 10\u001b[1;33m         \u001b[0mparam\u001b[0m\u001b[1;33m,\u001b[0m \u001b[0mparam_cov\u001b[0m \u001b[1;33m=\u001b[0m \u001b[0mcurve_fit\u001b[0m\u001b[1;33m(\u001b[0m\u001b[0mtwo_poisson\u001b[0m\u001b[1;33m,\u001b[0m\u001b[0mx\u001b[0m\u001b[1;33m,\u001b[0m\u001b[0my\u001b[0m\u001b[1;33m,\u001b[0m \u001b[0mp0\u001b[0m\u001b[1;33m=\u001b[0m\u001b[1;33m[\u001b[0m\u001b[1;36m90\u001b[0m\u001b[1;33m,\u001b[0m\u001b[1;36m10000\u001b[0m\u001b[1;33m,\u001b[0m\u001b[1;36m220\u001b[0m\u001b[1;33m,\u001b[0m\u001b[1;36m5\u001b[0m\u001b[1;33m,\u001b[0m\u001b[1;36m0.5\u001b[0m\u001b[1;33m,\u001b[0m\u001b[1;36m60\u001b[0m\u001b[1;33m,\u001b[0m\u001b[1;36m10000\u001b[0m\u001b[1;33m,\u001b[0m\u001b[1;36m220\u001b[0m\u001b[1;33m,\u001b[0m\u001b[1;36m10\u001b[0m\u001b[1;33m,\u001b[0m\u001b[1;36m0.5\u001b[0m\u001b[1;33m]\u001b[0m\u001b[1;33m)\u001b[0m\u001b[1;33m\u001b[0m\u001b[1;33m\u001b[0m\u001b[0m\n\u001b[0m\u001b[0;32m     11\u001b[0m         \u001b[0mfig\u001b[0m \u001b[1;33m=\u001b[0m \u001b[0mplt\u001b[0m\u001b[1;33m.\u001b[0m\u001b[0mfigure\u001b[0m\u001b[1;33m(\u001b[0m\u001b[0mfigsize\u001b[0m \u001b[1;33m=\u001b[0m \u001b[1;33m(\u001b[0m\u001b[1;36m10\u001b[0m\u001b[1;33m,\u001b[0m\u001b[1;36m5\u001b[0m\u001b[1;33m)\u001b[0m\u001b[1;33m)\u001b[0m\u001b[1;33m\u001b[0m\u001b[1;33m\u001b[0m\u001b[0m\n\u001b[0;32m     12\u001b[0m         \u001b[0mplt\u001b[0m\u001b[1;33m.\u001b[0m\u001b[0mplot\u001b[0m\u001b[1;33m(\u001b[0m\u001b[0mx\u001b[0m\u001b[1;33m,\u001b[0m\u001b[0my\u001b[0m\u001b[1;33m,\u001b[0m\u001b[0mlabel\u001b[0m\u001b[1;33m=\u001b[0m\u001b[1;34m'Original Data'\u001b[0m\u001b[1;33m)\u001b[0m\u001b[1;33m\u001b[0m\u001b[1;33m\u001b[0m\u001b[0m\n",
      "\u001b[1;32m~\\anaconda3.2\\lib\\site-packages\\scipy\\optimize\\minpack.py\u001b[0m in \u001b[0;36mcurve_fit\u001b[1;34m(f, xdata, ydata, p0, sigma, absolute_sigma, check_finite, bounds, method, jac, **kwargs)\u001b[0m\n\u001b[0;32m    787\u001b[0m         \u001b[0mcost\u001b[0m \u001b[1;33m=\u001b[0m \u001b[0mnp\u001b[0m\u001b[1;33m.\u001b[0m\u001b[0msum\u001b[0m\u001b[1;33m(\u001b[0m\u001b[0minfodict\u001b[0m\u001b[1;33m[\u001b[0m\u001b[1;34m'fvec'\u001b[0m\u001b[1;33m]\u001b[0m \u001b[1;33m**\u001b[0m \u001b[1;36m2\u001b[0m\u001b[1;33m)\u001b[0m\u001b[1;33m\u001b[0m\u001b[1;33m\u001b[0m\u001b[0m\n\u001b[0;32m    788\u001b[0m         \u001b[1;32mif\u001b[0m \u001b[0mier\u001b[0m \u001b[1;32mnot\u001b[0m \u001b[1;32min\u001b[0m \u001b[1;33m[\u001b[0m\u001b[1;36m1\u001b[0m\u001b[1;33m,\u001b[0m \u001b[1;36m2\u001b[0m\u001b[1;33m,\u001b[0m \u001b[1;36m3\u001b[0m\u001b[1;33m,\u001b[0m \u001b[1;36m4\u001b[0m\u001b[1;33m]\u001b[0m\u001b[1;33m:\u001b[0m\u001b[1;33m\u001b[0m\u001b[1;33m\u001b[0m\u001b[0m\n\u001b[1;32m--> 789\u001b[1;33m             \u001b[1;32mraise\u001b[0m \u001b[0mRuntimeError\u001b[0m\u001b[1;33m(\u001b[0m\u001b[1;34m\"Optimal parameters not found: \"\u001b[0m \u001b[1;33m+\u001b[0m \u001b[0merrmsg\u001b[0m\u001b[1;33m)\u001b[0m\u001b[1;33m\u001b[0m\u001b[1;33m\u001b[0m\u001b[0m\n\u001b[0m\u001b[0;32m    790\u001b[0m     \u001b[1;32melse\u001b[0m\u001b[1;33m:\u001b[0m\u001b[1;33m\u001b[0m\u001b[1;33m\u001b[0m\u001b[0m\n\u001b[0;32m    791\u001b[0m         \u001b[1;31m# Rename maxfev (leastsq) to max_nfev (least_squares), if specified.\u001b[0m\u001b[1;33m\u001b[0m\u001b[1;33m\u001b[0m\u001b[1;33m\u001b[0m\u001b[0m\n",
      "\u001b[1;31mRuntimeError\u001b[0m: Optimal parameters not found: Number of calls to function has reached maxfev = 2200."
     ]
    },
    {
     "data": {
      "image/png": "[encoded data removed]",
      "text/plain": [
       "<Figure size 432x288 with 1 Axes>"
      ]
     },
     "metadata": {
      "needs_background": "light"
     },
     "output_type": "display_data"
    }
   ],
   "source": [
    "parameters_ = {str(int(os.path.splitext(k)[0])): [] for k in os.listdir('data/rawData')}\n",
    "\n",
    "for dict_ in dicts:\n",
    "    for file in dict_:\n",
    "        data = dict_[file]\n",
    "        entries, bin_edges, patches = plt.hist(data,bins=int(max(data)/4))\n",
    "        x = np.delete(bin_edges,0,0)\n",
    "        y = entries\n",
    "\n",
    "        param, param_cov = curve_fit(two_poisson,x,y, p0=[90,10000,220,5,0.5,60,10000,220,10,0.5])\n",
    "        fig = plt.figure(figsize = (10,5))\n",
    "        plt.plot(x,y,label='Original Data')\n",
    "        plt.plot(x,two_poisson(x,param[0],param[1],param[2],param[3],param[4],param[5],param[6],param[7],param[8],param[9]), label =f\"Curve Fit Poisson\",ls='dashed',color='red') \n",
    "        plt.legend()\n",
    "        fig.savefig(f'figs/{file}.png')\n",
    "        parameters_[file] = param\n",
    "        \n",
    "        \n",
    "        "
   ]
  },
  {
   "cell_type": "code",
   "execution_count": 55,
   "id": "64cdd238",
   "metadata": {},
   "outputs": [],
   "source": [
    "f = open(f'data/rawData/01/rawdataEMCCD.dat').read()"
   ]
  },
  {
   "cell_type": "code",
   "execution_count": 33,
   "id": "5d922476",
   "metadata": {},
   "outputs": [],
   "source": [
    "list_ = []\n",
    "for i in f.split('\\n')[6:]:\n",
    "    sub_list = [float(n) for n in i.split('\\t') if n != '']\n",
    "    list_.append(sub_list)\n",
    "    "
   ]
  },
  {
   "cell_type": "code",
   "execution_count": 39,
   "id": "a7fb3fe2",
   "metadata": {},
   "outputs": [
    {
     "data": {
      "image/png": "[encoded data removed]",
      "text/plain": [
       "<Figure size 432x288 with 1 Axes>"
      ]
     },
     "metadata": {},
     "output_type": "display_data"
    }
   ],
   "source": [
    "entries, bin_edges, patches = plt.hist(list_[1],bins=int(max(list_[0])/4))"
   ]
  },
  {
   "cell_type": "code",
   "execution_count": null,
   "id": "2ffe5e3d",
   "metadata": {},
   "outputs": [],
   "source": []
  }
 ],
 "metadata": {
  "kernelspec": {
   "display_name": "Python 3",
   "language": "python",
   "name": "python3"
  },
  "language_info": {
   "codemirror_mode": {
    "name": "ipython",
    "version": 3
   },
   "file_extension": ".py",
   "mimetype": "text/x-python",
   "name": "python",
   "nbconvert_exporter": "python",
   "pygments_lexer": "ipython3",
   "version": "3.8.8"
  }
 },
 "nbformat": 4,
 "nbformat_minor": 5
}
